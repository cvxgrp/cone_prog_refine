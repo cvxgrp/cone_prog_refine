{
 "cells": [
  {
   "cell_type": "markdown",
   "metadata": {},
   "source": [
    "## Benchmark sparse matrices "
   ]
  },
  {
   "cell_type": "code",
   "execution_count": 1,
   "metadata": {},
   "outputs": [],
   "source": [
    "import scipy.sparse as sp\n",
    "import numpy as np\n",
    "\n",
    "m,n = 4000, 3000\n",
    "\n",
    "A_lil = sp.random(m, n, density = .2, format='lil')\n",
    "A_csc = sp.csc_matrix(A_lil)\n",
    "A_csr = sp.csr_matrix(A_lil)\n",
    "A_bsr = sp.bsr_matrix(A_lil)\n",
    "A_coo = sp.coo_matrix(A_lil)\n",
    "\n",
    "b = np.random.randn(n)\n",
    "c = np.random.randn(m)"
   ]
  },
  {
   "cell_type": "code",
   "execution_count": 2,
   "metadata": {},
   "outputs": [],
   "source": [
    "#%timeit A_coo@b"
   ]
  },
  {
   "cell_type": "code",
   "execution_count": 3,
   "metadata": {},
   "outputs": [],
   "source": [
    "from numba import jit\n",
    "\n",
    "@jit(nopython=True)\n",
    "def csr_matvec(row_pointers, col_indeces, mat_elements, vector):\n",
    "\n",
    "    m = len(row_pointers) - 1\n",
    "    result = np.zeros(m)\n",
    "    \n",
    "    for i in range(m):\n",
    "        js = col_indeces[row_pointers[i]:row_pointers[i+1]]\n",
    "        elements = mat_elements[row_pointers[i]:row_pointers[i+1]]\n",
    "        for cur, j in enumerate(js):\n",
    "            result[i] += vector[j] * elements[cur]\n",
    "    \n",
    "    return result  \n",
    "\n",
    "@jit(nopython=True)\n",
    "def csc_matvec(m, col_pointers, row_indeces, mat_elements, vector):\n",
    "    result = np.zeros(m)        \n",
    "    n = len(col_pointers) - 1\n",
    "    assert len(vector) == n\n",
    "    for j in range(n):\n",
    "        i_s = row_indeces[col_pointers[j]:col_pointers[j+1]]\n",
    "        elements = mat_elements[col_pointers[j]:col_pointers[j+1]]\n",
    "        for cur, i in enumerate(i_s):\n",
    "            result[i] += elements[cur] * vector[j]\n",
    "    \n",
    "    return result \n",
    "\n",
    "#csc_matvec(A_csc.shape[0], A_csc.indptr, A_csc.indices, A_csc.data, b)"
   ]
  },
  {
   "cell_type": "code",
   "execution_count": 4,
   "metadata": {
    "scrolled": true
   },
   "outputs": [
    {
     "name": "stdout",
     "output_type": "stream",
     "text": [
      "2.73 ms ± 131 µs per loop (mean ± std. dev. of 7 runs, 100 loops each)\n"
     ]
    }
   ],
   "source": [
    "%timeit A_csc@b"
   ]
  },
  {
   "cell_type": "code",
   "execution_count": 5,
   "metadata": {},
   "outputs": [
    {
     "name": "stdout",
     "output_type": "stream",
     "text": [
      "3.18 ms ± 136 µs per loop (mean ± std. dev. of 7 runs, 1 loop each)\n"
     ]
    }
   ],
   "source": [
    "%timeit csc_matvec(A_csc.shape[0], A_csc.indptr, A_csc.indices, A_csc.data, b) "
   ]
  },
  {
   "cell_type": "code",
   "execution_count": 14,
   "metadata": {},
   "outputs": [
    {
     "data": {
      "text/plain": [
       "array([-30.6177412 ,   8.91547711, -26.82965844, ..., -26.87710068,\n",
       "       -34.40569048,  25.37843367])"
      ]
     },
     "execution_count": 14,
     "metadata": {},
     "output_type": "execute_result"
    }
   ],
   "source": [
    "csc_matvec(A_csc.shape[0], A_csc.indptr, A_csc.indices, A_csc.data, b) "
   ]
  },
  {
   "cell_type": "code",
   "execution_count": 22,
   "metadata": {},
   "outputs": [
    {
     "data": {
      "text/plain": [
       "True"
      ]
     },
     "execution_count": 22,
     "metadata": {},
     "output_type": "execute_result"
    }
   ],
   "source": [
    "np.all((A_csc.T @ c) == csr_matvec(A_csc.T.indptr, A_csc.T.indices,  A_csc.T.data, c) )"
   ]
  },
  {
   "cell_type": "code",
   "execution_count": 33,
   "metadata": {},
   "outputs": [
    {
     "name": "stdout",
     "output_type": "stream",
     "text": [
      "14 ms ± 1.01 ms per loop (mean ± std. dev. of 7 runs, 100 loops each)\n"
     ]
    }
   ],
   "source": [
    "%timeit csc_matvec(A_csc.shape[0], A_csc.indptr, A_csc.indices, A_csc.data, b)"
   ]
  },
  {
   "cell_type": "code",
   "execution_count": 26,
   "metadata": {},
   "outputs": [
    {
     "name": "stdout",
     "output_type": "stream",
     "text": [
      "3.3 ms ± 164 µs per loop (mean ± std. dev. of 7 runs, 100 loops each)\n"
     ]
    }
   ],
   "source": [
    "%timeit A_csr@b"
   ]
  },
  {
   "cell_type": "code",
   "execution_count": 27,
   "metadata": {},
   "outputs": [],
   "source": [
    "#len(A_csr.indptr)"
   ]
  },
  {
   "cell_type": "code",
   "execution_count": 28,
   "metadata": {},
   "outputs": [
    {
     "name": "stdout",
     "output_type": "stream",
     "text": [
      "3.65 ms ± 245 µs per loop (mean ± std. dev. of 7 runs, 100 loops each)\n"
     ]
    }
   ],
   "source": [
    "%timeit csr_matvec(A_csr.indptr, A_csr.indices, A_csr.data, b)"
   ]
  },
  {
   "cell_type": "code",
   "execution_count": 61,
   "metadata": {},
   "outputs": [
    {
     "name": "stdout",
     "output_type": "stream",
     "text": [
      "3.14 ms ± 198 µs per loop (mean ± std. dev. of 7 runs, 100 loops each)\n"
     ]
    }
   ],
   "source": [
    "#%timeit A_lil@b"
   ]
  },
  {
   "cell_type": "code",
   "execution_count": 62,
   "metadata": {},
   "outputs": [
    {
     "name": "stdout",
     "output_type": "stream",
     "text": [
      "37.6 µs ± 1.29 µs per loop (mean ± std. dev. of 7 runs, 10000 loops each)\n"
     ]
    }
   ],
   "source": [
    "#%timeit A_bsr@b"
   ]
  },
  {
   "cell_type": "code",
   "execution_count": 15,
   "metadata": {},
   "outputs": [],
   "source": [
    "#np.var(csr_matvec(A_csr.indptr, A_csr.indices, A_csr.data, b) - A_csr @ b)"
   ]
  },
  {
   "cell_type": "code",
   "execution_count": 30,
   "metadata": {},
   "outputs": [
    {
     "name": "stdout",
     "output_type": "stream",
     "text": [
      "[[0.30871792 0.         0.         0.76990713]\n",
      " [0.         0.         0.         0.        ]\n",
      " [0.         0.         0.         0.        ]\n",
      " [0.         0.12435293 0.         0.        ]\n",
      " [0.         0.         0.         0.        ]\n",
      " [0.         0.         0.85768312 0.        ]]\n",
      "[0]\n",
      "[0.30871792]\n",
      "0\n",
      "[3]\n",
      "[0.12435293]\n",
      "3\n",
      "[5]\n",
      "[0.85768312]\n",
      "5\n",
      "[0]\n",
      "[0.76990713]\n",
      "0\n"
     ]
    },
    {
     "data": {
      "text/plain": [
       "array([0., 0., 0., 0., 0., 0.])"
      ]
     },
     "execution_count": 30,
     "metadata": {},
     "output_type": "execute_result"
    }
   ],
   "source": [
    "m,n = 6,4\n",
    "A = sp.random(m, n, density = .2, format='csc')\n",
    "b = np.random.randn(n)\n",
    "\n",
    "print(A.todense())\n",
    "\n",
    "csc_matvec(m, A.indptr, A.indices, A.data, b) - A@b"
   ]
  },
  {
   "cell_type": "code",
   "execution_count": 97,
   "metadata": {},
   "outputs": [
    {
     "name": "stdout",
     "output_type": "stream",
     "text": [
      "[0 1 3 4 4]\n",
      "[1 3 4 2]\n",
      "[0.79031659 0.78557056 0.31286768 0.42342571]\n"
     ]
    },
    {
     "data": {
      "text/plain": [
       "matrix([[0.        , 0.        , 0.        , 0.        ],\n",
       "        [0.79031659, 0.        , 0.        , 0.        ],\n",
       "        [0.        , 0.        , 0.42342571, 0.        ],\n",
       "        [0.        , 0.78557056, 0.        , 0.        ],\n",
       "        [0.        , 0.31286768, 0.        , 0.        ],\n",
       "        [0.        , 0.        , 0.        , 0.        ]])"
      ]
     },
     "execution_count": 97,
     "metadata": {},
     "output_type": "execute_result"
    }
   ],
   "source": [
    "m,n = 6,4\n",
    "A = sp.random(m, n, density = .2, format='csc')\n",
    "b = np.random.randn(n)\n",
    "print(A.indptr)\n",
    "print(A.indices)\n",
    "print(A.data)\n",
    "A.todense() #b"
   ]
  },
  {
   "cell_type": "code",
   "execution_count": 54,
   "metadata": {},
   "outputs": [
    {
     "name": "stdout",
     "output_type": "stream",
     "text": [
      "js []\n",
      "ele []\n",
      "js [7 8]\n",
      "ele [0.10888623 0.41501452]\n",
      "js [0 2]\n",
      "ele [0.3266154  0.78781857]\n",
      "js [5]\n",
      "ele [0.47700821]\n",
      "js [2 3 5 7 8]\n",
      "ele [0.54040142 0.25253436 0.40707859 0.20055761 0.08193714]\n"
     ]
    },
    {
     "data": {
      "text/plain": [
       "array([0.00000000e+00, 0.00000000e+00, 0.00000000e+00, 0.00000000e+00,\n",
       "       1.11022302e-16])"
      ]
     },
     "execution_count": 54,
     "metadata": {},
     "output_type": "execute_result"
    }
   ],
   "source": [
    "m,n = 5, 10\n",
    "A = sp.random(m, n, density = .2, format='csc')\n",
    "b = np.random.randn(n)\n",
    "csr_matvec(A.shape[1], A.indptr, A.indices, A.data, b) -A@b"
   ]
  },
  {
   "cell_type": "code",
   "execution_count": 20,
   "metadata": {},
   "outputs": [
    {
     "name": "stdout",
     "output_type": "stream",
     "text": [
      "js [4]\n",
      "ele [0.9899777]\n",
      "js [4]\n",
      "ele [0.33182386]\n",
      "js []\n",
      "ele []\n",
      "js [1 5]\n",
      "ele [0.77959195 0.26700234]\n",
      "js [1 5]\n",
      "ele [0.8908724  0.45704714]\n"
     ]
    },
    {
     "data": {
      "text/plain": [
       "array([-0.10062724, -0.03372856,  0.        ,  0.70919177,  0.92476466])"
      ]
     },
     "execution_count": 20,
     "metadata": {},
     "output_type": "execute_result"
    }
   ],
   "source": [
    "row_pointers, col_indeces, mat_elements = A.indptr, A.indices, A.data\n",
    "m,n = A.shape\n",
    "\n",
    "csr_matvec(A.shape[1], A.indptr, A.indices, A.data, b)"
   ]
  },
  {
   "cell_type": "code",
   "execution_count": 21,
   "metadata": {},
   "outputs": [
    {
     "data": {
      "text/plain": [
       "array([-0.10062724, -0.03372856,  0.        ,  0.70919177,  0.92476466])"
      ]
     },
     "execution_count": 21,
     "metadata": {},
     "output_type": "execute_result"
    }
   ],
   "source": [
    "A@b"
   ]
  },
  {
   "cell_type": "code",
   "execution_count": 9,
   "metadata": {},
   "outputs": [
    {
     "name": "stdout",
     "output_type": "stream",
     "text": [
      "[0 1 2 4 4 6]\n",
      "[5 5 2 3 1 2]\n",
      "[0.29980696 0.0332915  0.45539075 0.11370969 0.04820431 0.75973036]\n",
      "[[0.         0.         0.         0.         0.         0.29980696]\n",
      " [0.         0.         0.         0.         0.         0.0332915 ]\n",
      " [0.         0.         0.45539075 0.11370969 0.         0.        ]\n",
      " [0.         0.         0.         0.         0.         0.        ]\n",
      " [0.         0.04820431 0.75973036 0.         0.         0.        ]]\n"
     ]
    }
   ],
   "source": [
    "print(A.indptr)\n",
    "print(A.indices)\n",
    "print(A.data)\n",
    "print(A.todense())"
   ]
  },
  {
   "cell_type": "code",
   "execution_count": 169,
   "metadata": {},
   "outputs": [],
   "source": [
    "#np.dtype.char"
   ]
  },
  {
   "cell_type": "code",
   "execution_count": 11,
   "metadata": {},
   "outputs": [],
   "source": [
    "# from scipy.sparse import _sparsetools\n",
    "# from scipy.sparse.sputils import upcast_char\n",
    "\n",
    "# result = np.zeros(m)#, dtype=upcast_char(np.dtype.char, np.dtype.char))\n",
    "# m,n = A.shape\n",
    "# _sparsetools.csc_matvec(m,n, A.indptr, A.indices, A.data, b, result)\n",
    "# result"
   ]
  },
  {
   "cell_type": "code",
   "execution_count": 10,
   "metadata": {},
   "outputs": [
    {
     "name": "stdout",
     "output_type": "stream",
     "text": [
      "[-0.3885075  -0.04314108 -0.45497864  0.         -0.98281156]\n"
     ]
    }
   ],
   "source": [
    "#print(b)\n",
    "print(A@b)"
   ]
  },
  {
   "cell_type": "code",
   "execution_count": 148,
   "metadata": {},
   "outputs": [],
   "source": [
    "M,N = A.shape\n",
    "_sparsetools.csc_matvec(M, N, self.indptr, self.indices, self.data, other, result)"
   ]
  },
  {
   "cell_type": "code",
   "execution_count": 140,
   "metadata": {},
   "outputs": [],
   "source": [
    "#A_csc.todense()"
   ]
  },
  {
   "cell_type": "code",
   "execution_count": 59,
   "metadata": {},
   "outputs": [
    {
     "data": {
      "text/plain": [
       "True"
      ]
     },
     "execution_count": 59,
     "metadata": {},
     "output_type": "execute_result"
    }
   ],
   "source": [
    "import numba as nb\n",
    "\n",
    "@nb.jit(nb.double[:](nb.double[:,:]))\n",
    "def flatten(mat):\n",
    "    return mat.flatten()\n",
    "\n",
    "@nb.jit(nb.double[:,:](nb.double[:]))\n",
    "def reconstruct_sqmat(vec):\n",
    "    n = int(np.sqrt(len(vec)))\n",
    "    return vec.reshape(n,n)\n",
    "\n",
    "np.all(reconstruct_sqmat(flatten(A)) == A)\n"
   ]
  },
  {
   "cell_type": "markdown",
   "metadata": {},
   "source": [
    "# Test"
   ]
  },
  {
   "cell_type": "code",
   "execution_count": 1,
   "metadata": {},
   "outputs": [],
   "source": [
    "import sys, os\n",
    "sys.path.append(os.path.abspath('..'))\n",
    "import cone_prog_refine as cpr \n",
    "import time\n",
    "\n",
    "import cvxpy as cvx\n",
    "import numpy as np\n",
    "\n",
    "%matplotlib inline\n",
    "import matplotlib.pyplot as plt"
   ]
  },
  {
   "cell_type": "code",
   "execution_count": 2,
   "metadata": {},
   "outputs": [],
   "source": [
    "n = 20\n",
    "\n",
    "A = cvx.Variable((n,n))\n",
    "B = cvx.Parameter((n,n))\n",
    "B.value = np.random.randn(n,n)\n",
    "obj = cvx.norm(A - B)\n",
    "\n",
    "constr = [\n",
    "    A == A.T,\n",
    "    A >=0,\n",
    "    A >> 0,\n",
    "    cvx.log_det(A) >= 2.,\n",
    "]\n",
    "\n",
    "problem = cvx.Problem(cvx.Minimize(obj), constr)"
   ]
  },
  {
   "cell_type": "code",
   "execution_count": 3,
   "metadata": {
    "scrolled": true
   },
   "outputs": [],
   "source": [
    "#problem.solve(verbose=True)\n",
    "#mosek_opt = problem.value"
   ]
  },
  {
   "cell_type": "code",
   "execution_count": 4,
   "metadata": {},
   "outputs": [],
   "source": [
    "# np.linalg.eigh(A.value)[0][0], np.linalg.norm(A.value - A.T.value), np.linalg.norm(np.minimum(A.value, 0.)), \\\n",
    "# np.log(np.linalg.det(A.value)) - 2"
   ]
  },
  {
   "cell_type": "code",
   "execution_count": 5,
   "metadata": {},
   "outputs": [],
   "source": [
    "from cvxpy.reductions.solvers.solving_chain import construct_solving_chain\n",
    "\n",
    "def cvxpy_scs_to_csr(data, scs_solution = None):\n",
    "\n",
    "    A, b, c, dims = data['A'], data['b'], data['c'], data['dims']\n",
    "    \n",
    "    #z_scs = cpr.xsy2z(scs_solution['x'], scs_solution['s'], scs_solution['y'])\n",
    "    if scs_solution is None:\n",
    "        z_scs = np.ones(len(b) + len(c) + 1)\n",
    "    else:\n",
    "        z_scs = np.concatenate([scs_solution['x'], scs_solution['y']- scs_solution['s'], [1.]])\n",
    "\n",
    "    \n",
    "    dims_dict = {}\n",
    "    dims_dict['l'] = int(dims.nonpos)\n",
    "    dims_dict['z'] = int(dims.zero)\n",
    "    dims_dict['ep'] = int(dims.exp)\n",
    "    dims_dict['q'] = list([int(el) for el in dims.soc])\n",
    "    dims_dict['s'] = list([int(el) for el in dims.psd])\n",
    "    \n",
    "    \n",
    "    return A, b, c, z_scs, dims_dict\n",
    "\n",
    "def solve_and_refine(cvxpy_problem, presolve=True, iters = 2, lsqr_iters = 30, verbose = True, warm_start=True):\n",
    "    solving_chain = construct_solving_chain(cvxpy_problem, solver = 'SCS')\n",
    "    data, inverse_data = solving_chain.apply(cvxpy_problem)\n",
    "    \n",
    "    if presolve:\n",
    "        scs_solution = solving_chain.solve_via_data(cvxpy_problem, \n",
    "                                                    data=data, \n",
    "                                                    warm_start=warm_start, \n",
    "                                                    verbose=verbose,\n",
    "                                                    solver_opts = {})#'eps':1E-100})\n",
    "\n",
    "        #assert problem._solver_cache[list(problem._solver_cache.keys())[0]] is scs_solution\n",
    "        A, b, c, z_scs, dims = cvxpy_scs_to_csr(data, scs_solution)\n",
    "    else:\n",
    "        A, b, c, z_scs, dims = cvxpy_scs_to_csr(data)\n",
    "        scs_solution = {}\n",
    "    #TODO change this\n",
    "    if warm_start and 'CPSR' in problem._solver_cache:\n",
    "        z_scs = problem._solver_cache['CPSR']['z']\n",
    "        \n",
    "    ## HERE GOES REFINE\n",
    "    refined_z = cpr.refine(A,b,c, dims, z_scs, iters = iters, lsqr_iters=lsqr_iters, verbose=verbose)\n",
    "    #refined_z = cpr.ADMM_refine(A,b,c, dims, z_scs, iters = iters, lsqr_iters=lsqr_iters, verbose=verbose, U_UPDATE=1)\n",
    "    problem._solver_cache['CPSR'] = {'z':refined_z}\n",
    "    new_residual, u, v = cpr.residual_and_uv(refined_z, (A.indptr, A.indices, A.data), b, c, cpr.make_prod_cone_cache(dims))\n",
    "    scs_solution['x'], scs_solution['s'], scs_solution['y'], tau, kappa = cpr.uv2xsytaukappa(u, v, A.shape[1])\n",
    "    scs_solution[\"info\"] = {'status':'Solved', 'solveTime':0.0, 'setupTime':0.0, 'iter':iters, 'pobj':np.nan}\n",
    "    problem.unpack_results(scs_solution, solving_chain, inverse_data)\n",
    "\n",
    "    return problem.value"
   ]
  },
  {
   "cell_type": "code",
   "execution_count": 34,
   "metadata": {},
   "outputs": [],
   "source": [
    "B.value += np.random.randn(n,n) * 1E-5"
   ]
  },
  {
   "cell_type": "code",
   "execution_count": 35,
   "metadata": {},
   "outputs": [
    {
     "name": "stdout",
     "output_type": "stream",
     "text": [
      "----------------------------------------------------------------------------\n",
      "\tSCS v2.0.2 - Splitting Conic Solver\n",
      "\t(c) Brendan O'Donoghue, Stanford University, 2012-2017\n",
      "----------------------------------------------------------------------------\n",
      "Lin-sys: sparse-indirect, nnz in A = 7190, CG tol ~ 1/iter^(2.00)\n",
      "eps = 1.00e-10, alpha = 1.50, max_iters = 5000, normalize = 1, scale = 1.00\n",
      "acceleration_lookback = 20, rho_x = 1.00e-03\n",
      "Variables n = 2481, constraints m = 5531\n",
      "Cones:\tprimal zero / dual free vars: 3010\n",
      "\tlinear vars: 401\n",
      "\tsd vars: 2060, sd blks: 4\n",
      "\texp vars: 60, dual exp vars: 0\n",
      "Setup time: 1.75e-03s\n",
      "SCS using variable warm-starting\n",
      "----------------------------------------------------------------------------\n",
      " Iter | pri res | dua res | rel gap | pri obj | dua obj | kap/tau | time (s)\n",
      "----------------------------------------------------------------------------\n",
      "     0| 6.06e-06  1.06e-06  2.54e-07  7.07e+00  7.07e+00  0.00e+00  4.07e-03 \n",
      "   100| 7.61e-07  2.04e-07  4.55e-08  7.07e+00  7.07e+00  1.30e-16  1.48e-01 \n",
      "   200| 3.26e-07  7.60e-08  8.32e-10  7.07e+00  7.07e+00  1.62e-16  3.06e-01 \n",
      "   300| 2.25e-07  5.07e-08  3.09e-09  7.07e+00  7.07e+00  5.10e-16  4.39e-01 \n",
      "   400| 3.86e-08  8.37e-09  2.44e-10  7.07e+00  7.07e+00  2.14e-16  5.84e-01 \n",
      "   500| 3.25e-08  8.66e-09  5.50e-10  7.07e+00  7.07e+00  1.18e-16  7.19e-01 \n",
      "   600| 2.08e-08  5.24e-09  7.16e-12  7.07e+00  7.07e+00  1.89e-16  8.73e-01 \n",
      "   700| 2.51e-08  5.58e-09  6.57e-10  7.07e+00  7.07e+00  2.59e-16  1.01e+00 \n",
      "   800| 1.20e-08  2.99e-09  2.10e-10  7.07e+00  7.07e+00  9.45e-17  1.18e+00 \n",
      "   900| 9.63e-09  2.64e-09  1.19e-10  7.07e+00  7.07e+00  4.85e-16  1.33e+00 \n",
      "  1000| 9.03e-09  2.17e-09  3.56e-10  7.07e+00  7.07e+00  8.61e-18  1.47e+00 \n",
      "  1100| 6.03e-09  1.63e-09  1.01e-10  7.07e+00  7.07e+00  6.08e-16  1.61e+00 \n",
      "  1200| 4.87e-09  1.06e-09  2.52e-11  7.07e+00  7.07e+00  3.64e-16  1.83e+00 \n",
      "  1300| 6.77e-09  1.58e-09  5.03e-11  7.07e+00  7.07e+00  5.19e-16  2.04e+00 \n",
      "  1400| 3.71e-09  8.94e-10  1.83e-11  7.07e+00  7.07e+00  2.93e-17  2.26e+00 \n",
      "  1500| 3.34e-09  7.13e-10  5.24e-11  7.07e+00  7.07e+00  7.14e-17  2.42e+00 \n",
      "  1600| 2.34e-09  5.66e-10  1.69e-11  7.07e+00  7.07e+00  2.82e-16  2.65e+00 \n",
      "  1700| 1.65e-09  3.64e-10  2.43e-12  7.07e+00  7.07e+00  1.85e-16  2.85e+00 \n",
      "  1800| 1.47e-09  3.26e-10  9.10e-13  7.07e+00  7.07e+00  1.42e-16  3.06e+00 \n",
      "  1900| 1.34e-09  2.76e-10  2.43e-11  7.07e+00  7.07e+00  5.44e-17  3.24e+00 \n",
      "  2000| 1.10e-09  2.63e-10  4.56e-11  7.07e+00  7.07e+00  3.17e-16  3.39e+00 \n",
      "  2100| 1.07e-09  2.71e-10  1.87e-11  7.07e+00  7.07e+00  3.16e-16  3.52e+00 \n",
      "  2200| 7.27e-10  1.87e-10  1.90e-11  7.07e+00  7.07e+00  1.92e-16  3.67e+00 \n",
      "  2300| 9.34e-10  2.07e-10  1.57e-11  7.07e+00  7.07e+00  5.93e-16  3.82e+00 \n",
      "  2400| 6.95e-10  1.81e-10  7.81e-12  7.07e+00  7.07e+00  2.00e-16  3.99e+00 \n",
      "  2500| 6.41e-10  1.74e-10  1.92e-11  7.07e+00  7.07e+00  3.07e-17  4.12e+00 \n",
      "  2600| 4.31e-10  1.02e-10  1.35e-11  7.07e+00  7.07e+00  2.20e-16  4.27e+00 \n",
      "  2700| 3.03e-10  8.30e-11  6.78e-13  7.07e+00  7.07e+00  6.57e-16  4.40e+00 \n",
      "  2800| 4.04e-10  1.05e-10  1.86e-11  7.07e+00  7.07e+00  1.40e-16  4.56e+00 \n",
      "  2900| 3.67e-10  8.47e-11  9.48e-12  7.07e+00  7.07e+00  4.28e-16  4.70e+00 \n",
      "  3000| 3.08e-10  7.05e-11  7.30e-12  7.07e+00  7.07e+00  1.08e-16  4.85e+00 \n",
      "  3100| 1.76e-10  4.43e-11  9.92e-13  7.07e+00  7.07e+00  6.06e-17  5.00e+00 \n",
      "  3200| 3.14e-10  6.36e-11  2.35e-12  7.07e+00  7.07e+00  3.73e-16  5.16e+00 \n",
      "  3300| 1.31e-10  2.91e-11  3.93e-12  7.07e+00  7.07e+00  1.17e-16  5.36e+00 \n",
      "  3370| 9.37e-11  2.63e-11  1.35e-12  7.07e+00  7.07e+00  1.72e-17  5.51e+00 \n",
      "----------------------------------------------------------------------------\n",
      "Status: Solved\n",
      "Timing: Solve time: 5.51e+00s\n",
      "\tLin-sys: avg # CG iterations: 1.00, avg solve time: 1.26e-04s\n",
      "\tCones: avg projection time: 7.60e-04s\n",
      "\tAcceleration: avg step time: 5.73e-04s\n",
      "----------------------------------------------------------------------------\n",
      "Error metrics:\n",
      "dist(s, K) = 1.0245e-09, dist(y, K*) = 1.6287e-09, s'y/|s||y| = -5.4580e-12\n",
      "primal res: |Ax + s - b|_2 / (1 + |b|_2) = 9.3735e-11\n",
      "dual res:   |A'y + c|_2 / (1 + |c|_2) = 2.6315e-11\n",
      "rel gap:    |c'x + b'y| / (1 + |c'x| + |b'y|) = 1.3499e-12\n",
      "----------------------------------------------------------------------------\n",
      "c'x = 7.0667, -b'y = 7.0667\n",
      "============================================================================\n"
     ]
    },
    {
     "data": {
      "text/plain": [
       "7.066679913313681"
      ]
     },
     "execution_count": 35,
     "metadata": {},
     "output_type": "execute_result"
    }
   ],
   "source": [
    "problem.solve(verbose=True, eps=1E-10)"
   ]
  },
  {
   "cell_type": "code",
   "execution_count": 36,
   "metadata": {},
   "outputs": [
    {
     "data": {
      "text/plain": [
       "(0.013805802977064682,\n",
       " 1.3756730383641288e-10,\n",
       " 1.5780881929255095e-10,\n",
       " 2.0000000137976546)"
      ]
     },
     "execution_count": 36,
     "metadata": {},
     "output_type": "execute_result"
    }
   ],
   "source": [
    "np.linalg.eigh(A.value)[0][0], np.linalg.norm(A.value - A.T.value), np.linalg.norm(np.minimum(A.value, 0.)), \\\n",
    "np.log(np.linalg.det(A.value))"
   ]
  },
  {
   "cell_type": "code",
   "execution_count": null,
   "metadata": {
    "scrolled": false
   },
   "outputs": [
    {
     "name": "stdout",
     "output_type": "stream",
     "text": [
      "\n",
      "\n",
      "~~~~~~~~~~~~~~~~~~~~~~~~~~~~~~~~~~~~~~~~~~~~~~~~~~~~~\n",
      "           Cone Program Solution Refinement          \n",
      "~~~~~~~~~~~~~~~~~~~~~~~~~~~~~~~~~~~~~~~~~~~~~~~~~~~~~\n",
      "\n",
      "Q ∈ 𝗥^(8013 × 8013),  nnz(Q) = 7190,  ‖Q‖_F = 9.771e+01,\n",
      "\n",
      "𝒦 = 𝗥^(5491) × 𝗥_+^(402) × 𝓢^(0) × 𝗦𝗗^(2060) × 𝒦_exp^*(20)\n",
      "\n",
      "𝓢 is the product of 0 second-order cones\n",
      "𝗦𝗗 is the product of 4 semi-definite cones\n",
      "each 𝒦_exp ∈ 𝗥^3 is an exponential cone\n",
      "\n",
      "           (Enzo Busseti 𝘦𝘵 𝘢𝘭., 2017-2019)            \n",
      "~~~~~~~~~~~~~~~~~~~~~~~~~~~~~~~~~~~~~~~~~~~~~~~~~~~~~\n",
      "ite.   ‖𝒩(z^+)‖   ‖𝒩(z) + 𝗗𝛿‖   z_(n-1)  LSQR   time\n",
      "~~~~~~~~~~~~~~~~~~~~~~~~~~~~~~~~~~~~~~~~~~~~~~~~~~~~~\n",
      "0\t1.93e-04\tnan\t1e+00\t0\t0.00\n",
      "1\t1.14e-06\t1.62e-07\t1e+00\t5000\t4.46\n",
      "2\t6.64e-08\t6.64e-08\t1e+00\t5000\t9.23\n"
     ]
    }
   ],
   "source": [
    "solve_and_refine(problem, lsqr_iters=5000, iters=10, presolve=False)"
   ]
  },
  {
   "cell_type": "code",
   "execution_count": 33,
   "metadata": {},
   "outputs": [
    {
     "data": {
      "text/plain": [
       "(0.013805341820329551,\n",
       " 3.410493491161449e-11,\n",
       " 1.1335974906350967e-10,\n",
       " 2.000000004140919)"
      ]
     },
     "execution_count": 33,
     "metadata": {},
     "output_type": "execute_result"
    }
   ],
   "source": [
    "np.linalg.eigh(A.value)[0][0], np.linalg.norm(A.value - A.T.value), np.linalg.norm(np.minimum(A.value, 0.)), \\\n",
    "np.log(np.linalg.det(A.value))"
   ]
  },
  {
   "cell_type": "code",
   "execution_count": 54,
   "metadata": {},
   "outputs": [],
   "source": [
    "#mosek_opt, new_opt"
   ]
  },
  {
   "cell_type": "code",
   "execution_count": 85,
   "metadata": {},
   "outputs": [
    {
     "name": "stdout",
     "output_type": "stream",
     "text": [
      "----------------------------------------------------------------------------\n",
      "\tSCS v2.0.2 - Splitting Conic Solver\n",
      "\t(c) Brendan O'Donoghue, Stanford University, 2012-2017\n",
      "----------------------------------------------------------------------------\n",
      "Lin-sys: sparse-indirect, nnz in A = 975, CG tol ~ 1/iter^(2.00)\n",
      "eps = 1.00e-05, alpha = 1.50, max_iters = 5000, normalize = 1, scale = 1.00\n",
      "acceleration_lookback = 20, rho_x = 1.00e-03\n",
      "Variables n = 311, constraints m = 765\n",
      "Cones:\tprimal zero / dual free vars: 400\n",
      "\tlinear vars: 100\n",
      "\tsd vars: 265, sd blks: 2\n",
      "Setup time: 1.13e-03s\n",
      "----------------------------------------------------------------------------\n",
      " Iter | pri res | dua res | rel gap | pri obj | dua obj | kap/tau | time (s)\n",
      "----------------------------------------------------------------------------\n",
      "     0| 1.90e+20  1.49e+20  1.00e+00 -5.47e+20  6.25e+20  1.80e+20  1.97e-03 \n",
      "   100| 2.25e-03  6.53e-04  3.25e-06  5.25e+00  5.25e+00  9.21e-17  4.60e-02 \n",
      "   200| 1.07e-03  4.08e-04  1.55e-05  5.24e+00  5.24e+00  7.15e-16  8.38e-02 \n",
      "   300| 4.23e-05  1.08e-05  1.43e-06  5.24e+00  5.24e+00  2.67e-16  1.11e-01 \n",
      "   360| 4.96e-06  1.54e-06  3.75e-07  5.24e+00  5.24e+00  1.52e-16  1.23e-01 \n",
      "----------------------------------------------------------------------------\n",
      "Status: Solved\n",
      "Timing: Solve time: 1.23e-01s\n",
      "\tLin-sys: avg # CG iterations: 6.04, avg solve time: 5.67e-05s\n",
      "\tCones: avg projection time: 6.99e-05s\n",
      "\tAcceleration: avg step time: 1.85e-04s\n",
      "----------------------------------------------------------------------------\n",
      "Error metrics:\n",
      "dist(s, K) = 1.0838e-09, dist(y, K*) = 2.5080e-09, s'y/|s||y| = -6.3168e-13\n",
      "primal res: |Ax + s - b|_2 / (1 + |b|_2) = 4.9594e-06\n",
      "dual res:   |A'y + c|_2 / (1 + |c|_2) = 1.5390e-06\n",
      "rel gap:    |c'x + b'y| / (1 + |c'x| + |b'y|) = 3.7527e-07\n",
      "----------------------------------------------------------------------------\n",
      "c'x = 5.2439, -b'y = 5.2439\n",
      "============================================================================\n",
      "\n",
      "\n",
      "~~~~~~~~~~~~~~~~~~~~~~~~~~~~~~~~~~~~~~~~~~~~~~~~~~~~~\n",
      "              Conic Solution Refinement              \n",
      "\n",
      "~~~~~~~~~~~~~~~~~~~~~~~~~~~~~~~~~~~~~~~~~~~~~~~~~~~~~\n",
      "ite.    || N(z) ||_2      z[-1]     LSQR       time\n",
      "~~~~~~~~~~~~~~~~~~~~~~~~~~~~~~~~~~~~~~~~~~~~~~~~~~~~~\n",
      "0\t5.57e-05\t1e+00\t0\t0.00\n",
      "1\t7.58e-09\t1e+00\t1000\t0.15\n",
      "2\t1.18e-11\t1e+00\t1000\t0.27\n",
      "3\t1.24e-13\t1e+00\t1000\t0.42\n",
      "4\t1.13e-13\t1e+00\t1000\t0.57\n",
      "5\t9.45e-14\t1e+00\t1000\t0.70\n",
      "~~~~~~~~~~~~~~~~~~~~~~~~~~~~~~~~~~~~~~~~~~~~~~~~~~~~~~\n",
      "Max num. refinement iters reached.\n",
      "~~~~~~~~~~~~~~~~~~~~~~~~~~~~~~~~~~~~~~~~~~~~~~~~~~~~~~\n",
      "-8.121645933996544e-07\n",
      "2.324451694695318e-16 1.149744486528761e-16 4.3700291494640074e-17 nan\n"
     ]
    },
    {
     "name": "stderr",
     "output_type": "stream",
     "text": [
      "/Users/enzo/anaconda3/lib/python3.6/site-packages/ipykernel_launcher.py:3: RuntimeWarning: invalid value encountered in log\n",
      "  This is separate from the ipykernel package so we can avoid doing imports until\n"
     ]
    }
   ],
   "source": [
    "new_opt = solve_and_refine(problem, iters = 5, lsqr_iters=1000, warm_start=False)\n",
    "print((mosek_opt - new_opt)/ mosek_opt)\n",
    "print(np.linalg.eigh(A.value)[0][0], np.linalg.norm(A.value - A.T.value), np.linalg.norm(np.minimum(A.value, 0.)),\\\n",
    "     np.log(np.linalg.det(A.value)) - 2)"
   ]
  },
  {
   "cell_type": "code",
   "execution_count": 90,
   "metadata": {},
   "outputs": [
    {
     "name": "stdout",
     "output_type": "stream",
     "text": [
      "\n",
      "\n",
      "~~~~~~~~~~~~~~~~~~~~~~~~~~~~~~~~~~~~~~~~~~~~~~~~~~~~~\n",
      "              Conic Solution Refinement              \n",
      "\n",
      "~~~~~~~~~~~~~~~~~~~~~~~~~~~~~~~~~~~~~~~~~~~~~~~~~~~~~\n",
      "ite.    || N(z) ||_2      z[-1]     LSQR       time\n",
      "~~~~~~~~~~~~~~~~~~~~~~~~~~~~~~~~~~~~~~~~~~~~~~~~~~~~~\n",
      "0\t9.00e-04\t1e+00\t0\t0.00\n",
      "1\t7.43e-08\t1e+00\t1000\t0.15\n",
      "2\t9.16e-10\t1e+00\t1000\t0.27\n",
      "~~~~~~~~~~~~~~~~~~~~~~~~~~~~~~~~~~~~~~~~~~~~~~~~~~~~~~\n",
      "Max num. refinement iters reached.\n",
      "~~~~~~~~~~~~~~~~~~~~~~~~~~~~~~~~~~~~~~~~~~~~~~~~~~~~~~\n",
      "-8.121645933996544e-07\n",
      "-5.361927314068023e-12 9.764913864249008e-12 2.817849491158293e-11 -49.209431655219305\n"
     ]
    }
   ],
   "source": [
    "B.value += np.random.randn(n,n) * 1E-4\n",
    "\n",
    "new_opt = solve_and_refine(problem, iters = 2, lsqr_iters=1000, warm_start=True)\n",
    "print((mosek_opt - new_opt)/ mosek_opt)\n",
    "print(np.linalg.eigh(A.value)[0][0], np.linalg.norm(A.value - A.T.value), np.linalg.norm(np.minimum(A.value, 0.)),\\\n",
    "     np.log(np.linalg.det(A.value)) - 2)"
   ]
  },
  {
   "cell_type": "code",
   "execution_count": 64,
   "metadata": {},
   "outputs": [],
   "source": [
    "# new_opt = solve_and_refine(problem, iters = 2, lsqr_iters = 500, warm_start=True)\n",
    "# print((mosek_opt - new_opt)/ mosek_opt)\n",
    "# print(np.linalg.eigh(A.value)[0][0], np.linalg.norm(A.value - A.T.value), np.linalg.norm(np.minimum(A.value, 0.)))"
   ]
  },
  {
   "cell_type": "code",
   "execution_count": 67,
   "metadata": {},
   "outputs": [],
   "source": [
    "# new_opt = solve_and_refine(problem, warm_start=True)\n",
    "# print((mosek_opt - new_opt)/ mosek_opt)\n",
    "# print(np.linalg.eigh(A.value)[0][0], np.linalg.norm(A.value - A.T.value), np.linalg.norm(np.minimum(A.value, 0.)))"
   ]
  },
  {
   "cell_type": "code",
   "execution_count": 58,
   "metadata": {},
   "outputs": [],
   "source": [
    "# from cvxpy.reductions.solvers.solving_chain import construct_solving_chain\n",
    "\n",
    "# solving_chain = construct_solving_chain(problem, solver = 'SCS')\n",
    "# data, inverse_data = solving_chain.apply(problem)\n",
    "\n",
    "# scs_solution = solving_chain.solve_via_data(problem, \n",
    "#                                             data=data, \n",
    "#                                             warm_start=True, \n",
    "#                                             verbose=True,\n",
    "#                                             solver_opts = {'eps':1E-8})\n",
    "\n",
    "# ## HERE GOES REFINE\n",
    "\n",
    "# A, b, c, z_scs, dims = cvxpy_scs_to_csr(scs_solution, data)\n",
    "# refined_z = cpr.refine(A,b,c, dims, z_scs, verbose=True)\n",
    "# new_residual, u, v = cpr.residual_and_uv(refined_z, A, b, c, cpr.make_prod_cone_cache(dims))\n",
    "# scs_solution['x'], scs_solution['s'], scs_solution['y'], \\\n",
    "#     tau, kappa = cpr.uv2xsytaukappa(u, v, A.shape[1])\n",
    "# print(tau, kappa)\n",
    "\n",
    "# cvxpy_solution = solving_chain.invert(scs_solution, inverse_data)\n",
    "\n",
    "# problem.unpack_results(scs_solution, solving_chain, inverse_data)\n",
    "# problem.value"
   ]
  },
  {
   "cell_type": "code",
   "execution_count": 14,
   "metadata": {},
   "outputs": [
    {
     "data": {
      "text/plain": [
       "<cvxpy.reductions.solvers.conic_solvers.conic_solver.ConeDims at 0xb1935dba8>"
      ]
     },
     "execution_count": 14,
     "metadata": {},
     "output_type": "execute_result"
    }
   ],
   "source": [
    "data['dims']"
   ]
  },
  {
   "cell_type": "code",
   "execution_count": 23,
   "metadata": {},
   "outputs": [
    {
     "name": "stdout",
     "output_type": "stream",
     "text": [
      "\n",
      "\n",
      "~~~~~~~~~~~~~~~~~~~~~~~~~~~~~~~~~~~~~~~~~~~~~~~~~~~~~~\n",
      "               Conic Solution Refinement              \n",
      "\n",
      "it.    ||N(z)||_2       z[-1]   LSQR  btrks     time\n",
      "~~~~~~~~~~~~~~~~~~~~~~~~~~~~~~~~~~~~~~~~~~~~~~~~~~~~~~\n",
      "0\t8.89e-08\t1e+00\t  0\t0\t0.00\n",
      "1\t1.04e-08\t1e+00\t  30\t0\t0.05\n",
      "2\t6.82e-09\t1e+00\t  30\t0\t0.10\n",
      "~~~~~~~~~~~~~~~~~~~~~~~~~~~~~~~~~~~~~~~~~~~~~~~~~~~~~~\n",
      "Max num. refinement iters reached.\n",
      "~~~~~~~~~~~~~~~~~~~~~~~~~~~~~~~~~~~~~~~~~~~~~~~~~~~~~~\n"
     ]
    }
   ],
   "source": [
    "refined_z = refine(A,b,c, dims, z_scs, verbose=True)"
   ]
  },
  {
   "cell_type": "code",
   "execution_count": 33,
   "metadata": {},
   "outputs": [
    {
     "name": "stdout",
     "output_type": "stream",
     "text": [
      "\n",
      "\n",
      "~~~~~~~~~~~~~~~~~~~~~~~~~~~~~~~~~~~~~~~~~~~~~~~~~~~~~~\n",
      "               Conic Solution Refinement              \n",
      "\n",
      "it.    ||N(z)||_2       z[-1]   LSQR  btrks     time\n",
      "~~~~~~~~~~~~~~~~~~~~~~~~~~~~~~~~~~~~~~~~~~~~~~~~~~~~~~\n",
      "0\t2.90e-09\t1e+00\t  0\t0\t0.00\n",
      "1\t2.88e-09\t1e+00\t  30\t0\t0.04\n",
      "2\t2.87e-09\t1e+00\t  30\t0\t0.09\n",
      "~~~~~~~~~~~~~~~~~~~~~~~~~~~~~~~~~~~~~~~~~~~~~~~~~~~~~~\n",
      "Max num. refinement iters reached.\n",
      "~~~~~~~~~~~~~~~~~~~~~~~~~~~~~~~~~~~~~~~~~~~~~~~~~~~~~~\n"
     ]
    }
   ],
   "source": [
    "refined_z = refine(A,b,c, dims, refined_z, verbose=True)"
   ]
  },
  {
   "cell_type": "code",
   "execution_count": 184,
   "metadata": {},
   "outputs": [],
   "source": [
    "problem.unpack_results?"
   ]
  },
  {
   "cell_type": "code",
   "execution_count": 122,
   "metadata": {},
   "outputs": [
    {
     "data": {
      "text/plain": [
       "<cvxpy.reductions.solution.Solution at 0xb2f094b70>"
      ]
     },
     "execution_count": 122,
     "metadata": {},
     "output_type": "execute_result"
    }
   ],
   "source": [
    "my_solution"
   ]
  },
  {
   "cell_type": "code",
   "execution_count": 110,
   "metadata": {},
   "outputs": [],
   "source": [
    "#solution"
   ]
  },
  {
   "cell_type": "code",
   "execution_count": 112,
   "metadata": {},
   "outputs": [
    {
     "data": {
      "text/plain": [
       "<cvxpy.reductions.solution.Solution at 0xb2ab99e10>"
      ]
     },
     "execution_count": 112,
     "metadata": {},
     "output_type": "execute_result"
    }
   ],
   "source": [
    "my_solution"
   ]
  },
  {
   "cell_type": "code",
   "execution_count": 97,
   "metadata": {},
   "outputs": [
    {
     "name": "stdout",
     "output_type": "stream",
     "text": [
      "----------------------------------------------------------------------------\n",
      "\tSCS v2.0.2 - Splitting Conic Solver\n",
      "\t(c) Brendan O'Donoghue, Stanford University, 2012-2017\n",
      "----------------------------------------------------------------------------\n",
      "Lin-sys: sparse-indirect, nnz in A = 8625, CG tol ~ 1/iter^(2.00)\n",
      "eps = 1.00e-05, alpha = 1.50, max_iters = 5000, normalize = 1, scale = 1.00\n",
      "acceleration_lookback = 20, rho_x = 1.00e-03\n",
      "Variables n = 2731, constraints m = 6795\n",
      "Cones:\tprimal zero / dual free vars: 3600\n",
      "\tlinear vars: 900\n",
      "\tsd vars: 2295, sd blks: 2\n",
      "Setup time: 2.35e-03s\n",
      "----------------------------------------------------------------------------\n",
      " Iter | pri res | dua res | rel gap | pri obj | dua obj | kap/tau | time (s)\n",
      "----------------------------------------------------------------------------\n",
      "     0| 6.07e+20  4.38e+20  1.00e+00 -2.81e+21  3.15e+21  9.37e+20  3.86e-03 \n",
      "   100| 1.54e-02  2.35e-03  1.28e-04  8.46e+00  8.46e+00  3.01e-16  1.35e-01 \n",
      "   200| 4.09e-03  6.27e-04  2.88e-05  8.47e+00  8.47e+00  1.61e-16  2.84e-01 \n",
      "   300| 1.27e-03  2.02e-04  5.77e-05  8.47e+00  8.47e+00  7.60e-16  4.31e-01 \n",
      "   400| 2.13e-04  3.63e-05  3.95e-06  8.47e+00  8.47e+00  1.77e-17  5.77e-01 \n",
      "   500| 7.93e-05  1.46e-05  1.84e-06  8.47e+00  8.47e+00  1.17e-15  7.17e-01 \n",
      "   600| 2.65e-05  4.19e-06  6.65e-07  8.47e+00  8.47e+00  1.84e-16  8.66e-01 \n",
      "   700| 1.39e-05  2.28e-06  3.68e-07  8.47e+00  8.47e+00  6.73e-16  1.00e+00 \n",
      "   720| 9.69e-06  1.52e-06  2.14e-08  8.47e+00  8.47e+00  3.37e-16  1.04e+00 \n",
      "----------------------------------------------------------------------------\n",
      "Status: Solved\n",
      "Timing: Solve time: 1.04e+00s\n",
      "\tLin-sys: avg # CG iterations: 6.86, avg solve time: 3.73e-04s\n",
      "\tCones: avg projection time: 3.55e-04s\n",
      "\tAcceleration: avg step time: 5.55e-04s\n",
      "----------------------------------------------------------------------------\n",
      "Error metrics:\n",
      "dist(s, K) = 1.8257e-06, dist(y, K*) = 2.4184e-08, s'y/|s||y| = -1.5079e-12\n",
      "primal res: |Ax + s - b|_2 / (1 + |b|_2) = 9.6916e-06\n",
      "dual res:   |A'y + c|_2 / (1 + |c|_2) = 1.5167e-06\n",
      "rel gap:    |c'x + b'y| / (1 + |c'x| + |b'y|) = 2.1416e-08\n",
      "----------------------------------------------------------------------------\n",
      "c'x = 8.4655, -b'y = 8.4655\n",
      "============================================================================\n"
     ]
    },
    {
     "data": {
      "text/plain": [
       "<cvxpy.reductions.solution.Solution at 0xb2aea2e48>"
      ]
     },
     "execution_count": 97,
     "metadata": {},
     "output_type": "execute_result"
    }
   ],
   "source": [
    "data = probl.get_problem_data(solver='SCS')\n",
    "solving_chain = data[1]\n",
    "\n",
    "solving_chain.solve(probl, warm_start=True, solver_opts={}, verbose=True)"
   ]
  },
  {
   "cell_type": "code",
   "execution_count": 90,
   "metadata": {},
   "outputs": [
    {
     "ename": "TypeError",
     "evalue": "get_problem_data() got an unexpected keyword argument 'warm_start'",
     "output_type": "error",
     "traceback": [
      "\u001b[0;31m---------------------------------------------------------------------------\u001b[0m",
      "\u001b[0;31mTypeError\u001b[0m                                 Traceback (most recent call last)",
      "\u001b[0;32m<ipython-input-90-b5f205ff1764>\u001b[0m in \u001b[0;36m<module>\u001b[0;34m()\u001b[0m\n\u001b[0;32m----> 1\u001b[0;31m \u001b[0mdata\u001b[0m \u001b[0;34m=\u001b[0m \u001b[0mprobl\u001b[0m\u001b[0;34m.\u001b[0m\u001b[0mget_problem_data\u001b[0m\u001b[0;34m(\u001b[0m\u001b[0msolver\u001b[0m\u001b[0;34m=\u001b[0m\u001b[0;34m'SCS'\u001b[0m\u001b[0;34m,\u001b[0m \u001b[0mwarm_start\u001b[0m\u001b[0;34m=\u001b[0m\u001b[0;32mTrue\u001b[0m\u001b[0;34m)\u001b[0m\u001b[0;34m\u001b[0m\u001b[0m\n\u001b[0m\u001b[1;32m      2\u001b[0m \u001b[0mA\u001b[0m\u001b[0;34m,\u001b[0m \u001b[0mb\u001b[0m\u001b[0;34m,\u001b[0m \u001b[0mc\u001b[0m\u001b[0;34m,\u001b[0m \u001b[0mdims\u001b[0m \u001b[0;34m=\u001b[0m \u001b[0mdata\u001b[0m\u001b[0;34m[\u001b[0m\u001b[0;36m0\u001b[0m\u001b[0;34m]\u001b[0m\u001b[0;34m[\u001b[0m\u001b[0;34m'A'\u001b[0m\u001b[0;34m]\u001b[0m\u001b[0;34m,\u001b[0m \u001b[0mdata\u001b[0m\u001b[0;34m[\u001b[0m\u001b[0;36m0\u001b[0m\u001b[0;34m]\u001b[0m\u001b[0;34m[\u001b[0m\u001b[0;34m'b'\u001b[0m\u001b[0;34m]\u001b[0m\u001b[0;34m,\u001b[0m \u001b[0mdata\u001b[0m\u001b[0;34m[\u001b[0m\u001b[0;36m0\u001b[0m\u001b[0;34m]\u001b[0m\u001b[0;34m[\u001b[0m\u001b[0;34m'c'\u001b[0m\u001b[0;34m]\u001b[0m\u001b[0;34m,\u001b[0m \u001b[0mdata\u001b[0m\u001b[0;34m[\u001b[0m\u001b[0;36m0\u001b[0m\u001b[0;34m]\u001b[0m\u001b[0;34m[\u001b[0m\u001b[0;34m'dims'\u001b[0m\u001b[0;34m]\u001b[0m\u001b[0;34m\u001b[0m\u001b[0m\n\u001b[1;32m      3\u001b[0m \u001b[0mdims_dict\u001b[0m \u001b[0;34m=\u001b[0m \u001b[0;34m{\u001b[0m\u001b[0;34m}\u001b[0m\u001b[0;34m\u001b[0m\u001b[0m\n\u001b[1;32m      4\u001b[0m \u001b[0mdims_dict\u001b[0m\u001b[0;34m[\u001b[0m\u001b[0;34m'l'\u001b[0m\u001b[0;34m]\u001b[0m \u001b[0;34m=\u001b[0m \u001b[0mint\u001b[0m\u001b[0;34m(\u001b[0m\u001b[0mdims\u001b[0m\u001b[0;34m.\u001b[0m\u001b[0mnonpos\u001b[0m\u001b[0;34m)\u001b[0m\u001b[0;34m\u001b[0m\u001b[0m\n\u001b[1;32m      5\u001b[0m \u001b[0mdims_dict\u001b[0m\u001b[0;34m[\u001b[0m\u001b[0;34m'z'\u001b[0m\u001b[0;34m]\u001b[0m \u001b[0;34m=\u001b[0m \u001b[0mint\u001b[0m\u001b[0;34m(\u001b[0m\u001b[0mdims\u001b[0m\u001b[0;34m.\u001b[0m\u001b[0mzero\u001b[0m\u001b[0;34m)\u001b[0m\u001b[0;34m\u001b[0m\u001b[0m\n",
      "\u001b[0;31mTypeError\u001b[0m: get_problem_data() got an unexpected keyword argument 'warm_start'"
     ]
    }
   ],
   "source": [
    "A, b, c, dims = data[0]['A'], data[0]['b'], data[0]['c'], data[0]['dims']\n",
    "dims_dict = {}\n",
    "dims_dict['l'] = int(dims.nonpos)\n",
    "dims_dict['z'] = int(dims.zero)\n",
    "dims_dict['q'] = list([int(el) for el in dims.soc])\n",
    "dims_dict['s'] = list([int(el) for el in dims.psd])"
   ]
  },
  {
   "cell_type": "code",
   "execution_count": 88,
   "metadata": {},
   "outputs": [
    {
     "name": "stdout",
     "output_type": "stream",
     "text": [
      "----------------------------------------------------------------------------\n",
      "\tSCS v2.0.2 - Splitting Conic Solver\n",
      "\t(c) Brendan O'Donoghue, Stanford University, 2012-2017\n",
      "----------------------------------------------------------------------------\n",
      "Lin-sys: sparse-indirect, nnz in A = 8625, CG tol ~ 1/iter^(2.00)\n",
      "eps = 1.00e-06, alpha = 1.50, max_iters = 1000, normalize = 1, scale = 1.00\n",
      "acceleration_lookback = 20, rho_x = 1.00e-03\n",
      "Variables n = 2731, constraints m = 6795\n",
      "Cones:\tprimal zero / dual free vars: 3600\n",
      "\tlinear vars: 900\n",
      "\tsd vars: 2295, sd blks: 2\n",
      "Setup time: 2.74e-03s\n",
      "----------------------------------------------------------------------------\n",
      " Iter | pri res | dua res | rel gap | pri obj | dua obj | kap/tau | time (s)\n",
      "----------------------------------------------------------------------------\n",
      "     0| 6.07e+20  4.38e+20  1.00e+00 -2.81e+21  3.15e+21  9.37e+20  4.60e-03 \n",
      "   100| 1.54e-02  2.35e-03  1.28e-04  8.46e+00  8.46e+00  3.01e-16  1.88e-01 \n",
      "   200| 4.09e-03  6.27e-04  2.88e-05  8.47e+00  8.47e+00  1.61e-16  3.57e-01 \n",
      "   300| 1.27e-03  2.02e-04  5.77e-05  8.47e+00  8.47e+00  7.60e-16  5.00e-01 \n",
      "   400| 2.13e-04  3.63e-05  3.95e-06  8.47e+00  8.47e+00  1.77e-17  6.56e-01 \n",
      "   500| 7.93e-05  1.46e-05  1.84e-06  8.47e+00  8.47e+00  1.17e-15  8.09e-01 \n",
      "   600| 2.65e-05  4.19e-06  6.65e-07  8.47e+00  8.47e+00  1.84e-16  9.71e-01 \n",
      "   700| 1.39e-05  2.28e-06  3.68e-07  8.47e+00  8.47e+00  6.73e-16  1.17e+00 \n",
      "   800| 5.80e-06  9.35e-07  2.92e-07  8.47e+00  8.47e+00  3.20e-16  1.37e+00 \n",
      "   900| 1.97e-06  3.07e-07  6.08e-08  8.47e+00  8.47e+00  3.74e-16  1.55e+00 \n",
      "   980| 7.16e-07  1.53e-07  8.88e-09  8.47e+00  8.47e+00  3.93e-16  1.67e+00 \n",
      "----------------------------------------------------------------------------\n",
      "Status: Solved\n",
      "Timing: Solve time: 1.67e+00s\n",
      "\tLin-sys: avg # CG iterations: 6.10, avg solve time: 4.09e-04s\n",
      "\tCones: avg projection time: 4.37e-04s\n",
      "\tAcceleration: avg step time: 6.64e-04s\n",
      "----------------------------------------------------------------------------\n",
      "Error metrics:\n",
      "dist(s, K) = 2.7516e-07, dist(y, K*) = 1.9843e-09, s'y/|s||y| = 2.8299e-12\n",
      "primal res: |Ax + s - b|_2 / (1 + |b|_2) = 7.1635e-07\n",
      "dual res:   |A'y + c|_2 / (1 + |c|_2) = 1.5259e-07\n",
      "rel gap:    |c'x + b'y| / (1 + |c'x| + |b'y|) = 8.8838e-09\n",
      "----------------------------------------------------------------------------\n",
      "c'x = 8.4655, -b'y = 8.4655\n",
      "============================================================================\n",
      "pres 7.16e-07, dres 2.09e-07, gap 8.88e-09\n",
      "\n",
      "\n",
      "~~~~~~~~~~~~~~~~~~~~~~~~~~~~~~~~~~~~~~~~~~~~~~~~~~~~~~\n",
      "               Conic Solution Refinement              \n",
      "\n",
      "it.    ||N(z)||_2       z[-1]   LSQR  btrks     time\n",
      "~~~~~~~~~~~~~~~~~~~~~~~~~~~~~~~~~~~~~~~~~~~~~~~~~~~~~~\n",
      "0\t2.23e-05\t1e+00\t  0\t0\t0.00\n",
      "1\t1.33e-06\t1e+00\t  1000\t0\t1.80\n",
      "2\t2.18e-07\t1e+00\t  1000\t0\t3.41\n",
      "~~~~~~~~~~~~~~~~~~~~~~~~~~~~~~~~~~~~~~~~~~~~~~~~~~~~~~\n",
      "Max num. refinement iters reached.\n",
      "~~~~~~~~~~~~~~~~~~~~~~~~~~~~~~~~~~~~~~~~~~~~~~~~~~~~~~\n",
      "pres 3.99e-09, dres 8.98e-08, gap 8.63e-13\n"
     ]
    }
   ],
   "source": [
    "x_con, s_con, y_con, info = solve(A,b,c,dims_dict,\n",
    "      max_lsqr_iters=1000, max_iters=2,\n",
    "      #refine_solver_time_ratio=1.,\n",
    "      verbose=True,\n",
    "     solver_options={'verbose':True, 'eps':1e-6, 'max_iters':1000})\n"
   ]
  },
  {
   "cell_type": "code",
   "execution_count": 89,
   "metadata": {},
   "outputs": [
    {
     "data": {
      "text/plain": [
       "({'A': <6795x2731 sparse matrix of type '<class 'numpy.float64'>'\n",
       "  \twith 8625 stored elements in Compressed Sparse Column format>,\n",
       "  'b': array([-0., -0., -0., ...,  0.,  0.,  0.]),\n",
       "  'c': array([1., 0., 0., ..., 0., 0., 0.]),\n",
       "  'dims': <cvxpy.reductions.solvers.conic_solvers.conic_solver.ConeDims at 0xb2ab0feb8>,\n",
       "  'offset': array([0.])},\n",
       " <cvxpy.reductions.solvers.solving_chain.SolvingChain at 0xb2848ab00>,\n",
       " [<cvxpy.reductions.inverse_data.InverseData at 0xb28545048>,\n",
       "  ({546: Variable((30, 30)), 1161: Variable((1830, 1)), 1162: Variable(())},\n",
       "   {546: Variable((30, 30)),\n",
       "    1161: Variable((60, 60), PSD=True),\n",
       "    1162: Variable(())},\n",
       "   {547: 547, 549: 549, 551: 551, 1163: 1163, 1165: 1165, 1167: 1167}),\n",
       "  <cvxpy.reductions.inverse_data.InverseData at 0xb2ae850b8>,\n",
       "  {'dims': <cvxpy.reductions.solvers.conic_solvers.conic_solver.ConeDims at 0xb2ab0feb8>,\n",
       "   'eq_constr': [Zero(Expression(AFFINE, UNKNOWN, (30, 30))),\n",
       "    Zero(Expression(AFFINE, UNKNOWN, (30, 30))),\n",
       "    Zero(Expression(AFFINE, UNKNOWN, (30, 30))),\n",
       "    Zero(Expression(AFFINE, UNKNOWN, (30, 30)))],\n",
       "   'offset': 0.0,\n",
       "   'other_constr': [NonPos(Expression(AFFINE, UNKNOWN, (30, 30))),\n",
       "    PSD(Expression(AFFINE, UNKNOWN, (60, 60))),\n",
       "    PSD(Expression(AFFINE, UNKNOWN, (30, 30)))],\n",
       "   'var_id': 1182}])"
      ]
     },
     "execution_count": 89,
     "metadata": {},
     "output_type": "execute_result"
    }
   ],
   "source": [
    "data"
   ]
  },
  {
   "cell_type": "code",
   "execution_count": null,
   "metadata": {},
   "outputs": [],
   "source": [
    "data[1].apply"
   ]
  },
  {
   "cell_type": "code",
   "execution_count": null,
   "metadata": {},
   "outputs": [],
   "source": [
    "data[1].accepts"
   ]
  },
  {
   "cell_type": "code",
   "execution_count": null,
   "metadata": {},
   "outputs": [],
   "source": [
    "data[1].accepts"
   ]
  },
  {
   "cell_type": "code",
   "execution_count": null,
   "metadata": {},
   "outputs": [],
   "source": [
    "data[1].solve"
   ]
  },
  {
   "cell_type": "code",
   "execution_count": 55,
   "metadata": {},
   "outputs": [
    {
     "data": {
      "text/plain": [
       "['__abstractmethods__',\n",
       " '__class__',\n",
       " '__delattr__',\n",
       " '__dict__',\n",
       " '__dir__',\n",
       " '__doc__',\n",
       " '__eq__',\n",
       " '__format__',\n",
       " '__ge__',\n",
       " '__getattribute__',\n",
       " '__gt__',\n",
       " '__hash__',\n",
       " '__init__',\n",
       " '__init_subclass__',\n",
       " '__le__',\n",
       " '__lt__',\n",
       " '__module__',\n",
       " '__ne__',\n",
       " '__new__',\n",
       " '__reduce__',\n",
       " '__reduce_ex__',\n",
       " '__repr__',\n",
       " '__setattr__',\n",
       " '__sizeof__',\n",
       " '__str__',\n",
       " '__subclasshook__',\n",
       " '__weakref__',\n",
       " '_abc_cache',\n",
       " '_abc_negative_cache',\n",
       " '_abc_negative_cache_version',\n",
       " '_abc_registry',\n",
       " 'accepts',\n",
       " 'apply',\n",
       " 'invert',\n",
       " 'reductions',\n",
       " 'solve',\n",
       " 'solve_via_data',\n",
       " 'solver']"
      ]
     },
     "execution_count": 55,
     "metadata": {},
     "output_type": "execute_result"
    }
   ],
   "source": [
    "dir(data[1])"
   ]
  },
  {
   "cell_type": "code",
   "execution_count": 31,
   "metadata": {},
   "outputs": [],
   "source": [
    "#(B-A).value"
   ]
  },
  {
   "cell_type": "code",
   "execution_count": null,
   "metadata": {},
   "outputs": [],
   "source": []
  }
 ],
 "metadata": {
  "kernelspec": {
   "display_name": "Python 3",
   "language": "python",
   "name": "python3"
  },
  "language_info": {
   "codemirror_mode": {
    "name": "ipython",
    "version": 3
   },
   "file_extension": ".py",
   "mimetype": "text/x-python",
   "name": "python",
   "nbconvert_exporter": "python",
   "pygments_lexer": "ipython3",
   "version": "3.6.8"
  }
 },
 "nbformat": 4,
 "nbformat_minor": 2
}
