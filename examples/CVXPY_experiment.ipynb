{
 "cells": [
  {
   "cell_type": "code",
   "execution_count": 1,
   "metadata": {},
   "outputs": [],
   "source": [
    "import sys, os\n",
    "sys.path.append(os.path.abspath('..'))\n",
    "import cone_prog_refine as cpr \n",
    "import time\n",
    "\n",
    "import cvxpy as cvx\n",
    "import numpy as np\n",
    "\n",
    "%matplotlib inline\n",
    "import matplotlib.pyplot as plt"
   ]
  },
  {
   "cell_type": "code",
   "execution_count": 2,
   "metadata": {},
   "outputs": [],
   "source": [
    "n = 10\n",
    "\n",
    "A = cvx.Variable((n,n))\n",
    "B = np.random.randn(n,n)\n",
    "obj = cvx.norm(A - B)\n",
    "\n",
    "constr = [\n",
    "    A == A.T,\n",
    "    A >=0,\n",
    "    A >> 0,\n",
    "    cvx.log_det(A) >= 2.,\n",
    "]\n",
    "\n",
    "problem = cvx.Problem(cvx.Minimize(obj), constr)"
   ]
  },
  {
   "cell_type": "code",
   "execution_count": 3,
   "metadata": {},
   "outputs": [
    {
     "name": "stdout",
     "output_type": "stream",
     "text": [
      "----------------------------------------------------------------------------\n",
      "\tSCS v2.0.2 - Splitting Conic Solver\n",
      "\t(c) Brendan O'Donoghue, Stanford University, 2012-2017\n",
      "----------------------------------------------------------------------------\n",
      "Lin-sys: sparse-indirect, nnz in A = 1845, CG tol ~ 1/iter^(2.00)\n",
      "eps = 1.00e-05, alpha = 1.50, max_iters = 5000, normalize = 1, scale = 1.00\n",
      "acceleration_lookback = 20, rho_x = 1.00e-03\n",
      "Variables n = 641, constraints m = 1416\n",
      "Cones:\tprimal zero / dual free vars: 755\n",
      "\tlinear vars: 101\n",
      "\tsd vars: 530, sd blks: 4\n",
      "\texp vars: 30, dual exp vars: 0\n",
      "Setup time: 3.01e-03s\n",
      "----------------------------------------------------------------------------\n",
      " Iter | pri res | dua res | rel gap | pri obj | dua obj | kap/tau | time (s)\n",
      "----------------------------------------------------------------------------\n",
      "     0| 2.79e+20  1.92e+20  1.00e+00 -8.34e+20  8.15e+20  4.18e+20  7.48e-03 \n",
      "   100| 3.24e-03  9.37e-04  6.25e-05  4.52e+00  4.52e+00  5.68e-17  6.03e-02 \n",
      "   200| 2.60e-05  6.64e-06  5.87e-07  4.51e+00  4.51e+00  4.04e-16  9.75e-02 \n",
      "   220| 6.29e-06  1.79e-06  3.56e-07  4.51e+00  4.51e+00  3.40e-16  1.05e-01 \n",
      "----------------------------------------------------------------------------\n",
      "Status: Solved\n",
      "Timing: Solve time: 1.05e-01s\n",
      "\tLin-sys: avg # CG iterations: 5.84, avg solve time: 7.41e-05s\n",
      "\tCones: avg projection time: 2.74e-04s\n",
      "\tAcceleration: avg step time: 7.60e-05s\n",
      "----------------------------------------------------------------------------\n",
      "Error metrics:\n",
      "dist(s, K) = 1.1896e-09, dist(y, K*) = 2.5623e-09, s'y/|s||y| = 8.1410e-12\n",
      "primal res: |Ax + s - b|_2 / (1 + |b|_2) = 6.2894e-06\n",
      "dual res:   |A'y + c|_2 / (1 + |c|_2) = 1.7853e-06\n",
      "rel gap:    |c'x + b'y| / (1 + |c'x| + |b'y|) = 3.5628e-07\n",
      "----------------------------------------------------------------------------\n",
      "c'x = 4.5149, -b'y = 4.5148\n",
      "============================================================================\n"
     ]
    }
   ],
   "source": [
    "problem.solve(verbose=True)\n",
    "mosek_opt = problem.value"
   ]
  },
  {
   "cell_type": "code",
   "execution_count": 4,
   "metadata": {},
   "outputs": [
    {
     "data": {
      "text/plain": [
       "(0.1524933849741329,\n",
       " 1.1406737570321878e-05,\n",
       " 5.632755124174842e-06,\n",
       " 5.857657167318564e-06)"
      ]
     },
     "execution_count": 4,
     "metadata": {},
     "output_type": "execute_result"
    }
   ],
   "source": [
    "np.linalg.eigh(A.value)[0][0], np.linalg.norm(A.value - A.T.value), np.linalg.norm(np.minimum(A.value, 0.)), \\\n",
    "np.log(np.linalg.det(A.value)) - 2"
   ]
  },
  {
   "cell_type": "code",
   "execution_count": null,
   "metadata": {},
   "outputs": [],
   "source": []
  },
  {
   "cell_type": "code",
   "execution_count": 5,
   "metadata": {},
   "outputs": [],
   "source": [
    "# def refine(problem, ):\n",
    "    "
   ]
  },
  {
   "cell_type": "code",
   "execution_count": 12,
   "metadata": {},
   "outputs": [],
   "source": [
    "from cvxpy.reductions.solvers.solving_chain import construct_solving_chain\n",
    "\n",
    "def cvxpy_scs_to_csr(scs_solution, data):\n",
    "\n",
    "    z_scs = cpr.xsy2z(scs_solution['x'], scs_solution['s'], scs_solution['y'])\n",
    "\n",
    "    A, b, c, dims = data['A'], data['b'], data['c'], data['dims']\n",
    "    \n",
    "    dims_dict = {}\n",
    "    dims_dict['l'] = int(dims.nonpos)\n",
    "    dims_dict['z'] = int(dims.zero)\n",
    "    dims_dict['ep'] = int(dims.exp)\n",
    "    dims_dict['q'] = list([int(el) for el in dims.soc])\n",
    "    dims_dict['s'] = list([int(el) for el in dims.psd])\n",
    "    \n",
    "    \n",
    "    return A, b, c, z_scs, dims_dict\n",
    "\n",
    "def solve_and_refine(cvxpy_problem, iters = 2, lsqr_iters = 30, verbose = True, warm_start=True):\n",
    "    solving_chain = construct_solving_chain(cvxpy_problem, solver = 'SCS')\n",
    "    data, inverse_data = solving_chain.apply(cvxpy_problem)\n",
    "\n",
    "    if warm_start:\n",
    "        scs_solution = problem._solver_cache[list(problem._solver_cache.keys())[0]]\n",
    "    else:\n",
    "        scs_solution = solving_chain.solve_via_data(cvxpy_problem, \n",
    "                                                data=data, \n",
    "                                                warm_start=warm_start, \n",
    "                                                verbose=verbose,\n",
    "                                                solver_opts = {})#'eps':1E-100})\n",
    "\n",
    "        assert problem._solver_cache[list(problem._solver_cache.keys())[0]] is scs_solution\n",
    "        \n",
    "    ## HERE GOES REFINE\n",
    "    A, b, c, z_scs, dims = cvxpy_scs_to_csr(scs_solution, data)\n",
    "    refined_z, _, _ = cpr.refine(A,b,c, dims, z_scs, iters = iters, lsqr_iters=lsqr_iters, verbose=verbose)\n",
    "    new_residual, u, v = cpr.residual_and_uv(refined_z, A, b, c, cpr.make_prod_cone_cache(dims))\n",
    "    scs_solution['x'], scs_solution['s'], scs_solution['y'], tau, kappa = cpr.uv2xsytaukappa(u, v, A.shape[1])\n",
    "    problem.unpack_results(scs_solution, solving_chain, inverse_data)\n",
    "\n",
    "    return problem.value"
   ]
  },
  {
   "cell_type": "code",
   "execution_count": 13,
   "metadata": {},
   "outputs": [],
   "source": [
    "#mosek_opt, new_opt"
   ]
  },
  {
   "cell_type": "code",
   "execution_count": 40,
   "metadata": {},
   "outputs": [
    {
     "name": "stdout",
     "output_type": "stream",
     "text": [
      "----------------------------------------------------------------------------\n",
      "\tSCS v2.0.2 - Splitting Conic Solver\n",
      "\t(c) Brendan O'Donoghue, Stanford University, 2012-2017\n",
      "----------------------------------------------------------------------------\n",
      "Lin-sys: sparse-indirect, nnz in A = 1845, CG tol ~ 1/iter^(2.00)\n",
      "eps = 1.00e-05, alpha = 1.50, max_iters = 5000, normalize = 1, scale = 1.00\n",
      "acceleration_lookback = 20, rho_x = 1.00e-03\n",
      "Variables n = 641, constraints m = 1416\n",
      "Cones:\tprimal zero / dual free vars: 755\n",
      "\tlinear vars: 101\n",
      "\tsd vars: 530, sd blks: 4\n",
      "\texp vars: 30, dual exp vars: 0\n",
      "Setup time: 1.06e-03s\n",
      "----------------------------------------------------------------------------\n",
      " Iter | pri res | dua res | rel gap | pri obj | dua obj | kap/tau | time (s)\n",
      "----------------------------------------------------------------------------\n",
      "     0| 2.79e+20  1.92e+20  1.00e+00 -8.34e+20  8.15e+20  4.18e+20  2.31e-03 \n",
      "   100| 3.24e-03  9.37e-04  6.25e-05  4.52e+00  4.52e+00  5.68e-17  6.71e-02 \n",
      "   200| 2.60e-05  6.64e-06  5.87e-07  4.51e+00  4.51e+00  4.04e-16  1.12e-01 \n",
      "   220| 6.29e-06  1.79e-06  3.56e-07  4.51e+00  4.51e+00  3.40e-16  1.19e-01 \n",
      "----------------------------------------------------------------------------\n",
      "Status: Solved\n",
      "Timing: Solve time: 1.19e-01s\n",
      "\tLin-sys: avg # CG iterations: 5.84, avg solve time: 9.63e-05s\n",
      "\tCones: avg projection time: 2.97e-04s\n",
      "\tAcceleration: avg step time: 9.75e-05s\n",
      "----------------------------------------------------------------------------\n",
      "Error metrics:\n",
      "dist(s, K) = 1.1896e-09, dist(y, K*) = 2.5623e-09, s'y/|s||y| = 8.1410e-12\n",
      "primal res: |Ax + s - b|_2 / (1 + |b|_2) = 6.2894e-06\n",
      "dual res:   |A'y + c|_2 / (1 + |c|_2) = 1.7853e-06\n",
      "rel gap:    |c'x + b'y| / (1 + |c'x| + |b'y|) = 3.5628e-07\n",
      "----------------------------------------------------------------------------\n",
      "c'x = 4.5149, -b'y = 4.5148\n",
      "============================================================================\n",
      "\n",
      "\n",
      "~~~~~~~~~~~~~~~~~~~~~~~~~~~~~~~~~~~~~~~~~~~~~~~~~~~~~~\n",
      "               Conic Solution Refinement              \n",
      "\n",
      "it.    ||N(z)||_2       z[-1]   LSQR  btrks     time\n",
      "~~~~~~~~~~~~~~~~~~~~~~~~~~~~~~~~~~~~~~~~~~~~~~~~~~~~~~\n",
      "0\t7.15e-05\t1e+00\t  0\t0\t0.00\n",
      "1\t7.81e-09\t1e+00\t  4116\t0\t5.38\n",
      "2\t1.08e-13\t1e+00\t  4116\t0\t10.28\n",
      "~~~~~~~~~~~~~~~~~~~~~~~~~~~~~~~~~~~~~~~~~~~~~~~~~~~~~~\n",
      "Max num. refinement iters reached.\n",
      "~~~~~~~~~~~~~~~~~~~~~~~~~~~~~~~~~~~~~~~~~~~~~~~~~~~~~~\n",
      "0.0\n",
      "0.1524993313919584 1.6132984868239228e-16 1.0520433316751458e-16 -6.661338147750939e-15\n"
     ]
    }
   ],
   "source": [
    "new_opt = solve_and_refine(problem, iters = 2, lsqr_iters=None, warm_start=False)\n",
    "print((mosek_opt - new_opt)/ mosek_opt)\n",
    "print(np.linalg.eigh(A.value)[0][0], np.linalg.norm(A.value - A.T.value), np.linalg.norm(np.minimum(A.value, 0.)),\\\n",
    "     np.log(np.linalg.det(A.value)) - 2)"
   ]
  },
  {
   "cell_type": "code",
   "execution_count": 64,
   "metadata": {},
   "outputs": [],
   "source": [
    "# new_opt = solve_and_refine(problem, iters = 2, lsqr_iters = 500, warm_start=True)\n",
    "# print((mosek_opt - new_opt)/ mosek_opt)\n",
    "# print(np.linalg.eigh(A.value)[0][0], np.linalg.norm(A.value - A.T.value), np.linalg.norm(np.minimum(A.value, 0.)))"
   ]
  },
  {
   "cell_type": "code",
   "execution_count": 67,
   "metadata": {},
   "outputs": [],
   "source": [
    "# new_opt = solve_and_refine(problem, warm_start=True)\n",
    "# print((mosek_opt - new_opt)/ mosek_opt)\n",
    "# print(np.linalg.eigh(A.value)[0][0], np.linalg.norm(A.value - A.T.value), np.linalg.norm(np.minimum(A.value, 0.)))"
   ]
  },
  {
   "cell_type": "code",
   "execution_count": 58,
   "metadata": {},
   "outputs": [],
   "source": [
    "# from cvxpy.reductions.solvers.solving_chain import construct_solving_chain\n",
    "\n",
    "# solving_chain = construct_solving_chain(problem, solver = 'SCS')\n",
    "# data, inverse_data = solving_chain.apply(problem)\n",
    "\n",
    "# scs_solution = solving_chain.solve_via_data(problem, \n",
    "#                                             data=data, \n",
    "#                                             warm_start=True, \n",
    "#                                             verbose=True,\n",
    "#                                             solver_opts = {'eps':1E-8})\n",
    "\n",
    "# ## HERE GOES REFINE\n",
    "\n",
    "# A, b, c, z_scs, dims = cvxpy_scs_to_csr(scs_solution, data)\n",
    "# refined_z = cpr.refine(A,b,c, dims, z_scs, verbose=True)\n",
    "# new_residual, u, v = cpr.residual_and_uv(refined_z, A, b, c, cpr.make_prod_cone_cache(dims))\n",
    "# scs_solution['x'], scs_solution['s'], scs_solution['y'], \\\n",
    "#     tau, kappa = cpr.uv2xsytaukappa(u, v, A.shape[1])\n",
    "# print(tau, kappa)\n",
    "\n",
    "# cvxpy_solution = solving_chain.invert(scs_solution, inverse_data)\n",
    "\n",
    "# problem.unpack_results(scs_solution, solving_chain, inverse_data)\n",
    "# problem.value"
   ]
  },
  {
   "cell_type": "code",
   "execution_count": 14,
   "metadata": {},
   "outputs": [
    {
     "data": {
      "text/plain": [
       "<cvxpy.reductions.solvers.conic_solvers.conic_solver.ConeDims at 0xb1935dba8>"
      ]
     },
     "execution_count": 14,
     "metadata": {},
     "output_type": "execute_result"
    }
   ],
   "source": [
    "data['dims']"
   ]
  },
  {
   "cell_type": "code",
   "execution_count": 23,
   "metadata": {},
   "outputs": [
    {
     "name": "stdout",
     "output_type": "stream",
     "text": [
      "\n",
      "\n",
      "~~~~~~~~~~~~~~~~~~~~~~~~~~~~~~~~~~~~~~~~~~~~~~~~~~~~~~\n",
      "               Conic Solution Refinement              \n",
      "\n",
      "it.    ||N(z)||_2       z[-1]   LSQR  btrks     time\n",
      "~~~~~~~~~~~~~~~~~~~~~~~~~~~~~~~~~~~~~~~~~~~~~~~~~~~~~~\n",
      "0\t8.89e-08\t1e+00\t  0\t0\t0.00\n",
      "1\t1.04e-08\t1e+00\t  30\t0\t0.05\n",
      "2\t6.82e-09\t1e+00\t  30\t0\t0.10\n",
      "~~~~~~~~~~~~~~~~~~~~~~~~~~~~~~~~~~~~~~~~~~~~~~~~~~~~~~\n",
      "Max num. refinement iters reached.\n",
      "~~~~~~~~~~~~~~~~~~~~~~~~~~~~~~~~~~~~~~~~~~~~~~~~~~~~~~\n"
     ]
    }
   ],
   "source": [
    "refined_z = refine(A,b,c, dims, z_scs, verbose=True)"
   ]
  },
  {
   "cell_type": "code",
   "execution_count": 33,
   "metadata": {},
   "outputs": [
    {
     "name": "stdout",
     "output_type": "stream",
     "text": [
      "\n",
      "\n",
      "~~~~~~~~~~~~~~~~~~~~~~~~~~~~~~~~~~~~~~~~~~~~~~~~~~~~~~\n",
      "               Conic Solution Refinement              \n",
      "\n",
      "it.    ||N(z)||_2       z[-1]   LSQR  btrks     time\n",
      "~~~~~~~~~~~~~~~~~~~~~~~~~~~~~~~~~~~~~~~~~~~~~~~~~~~~~~\n",
      "0\t2.90e-09\t1e+00\t  0\t0\t0.00\n",
      "1\t2.88e-09\t1e+00\t  30\t0\t0.04\n",
      "2\t2.87e-09\t1e+00\t  30\t0\t0.09\n",
      "~~~~~~~~~~~~~~~~~~~~~~~~~~~~~~~~~~~~~~~~~~~~~~~~~~~~~~\n",
      "Max num. refinement iters reached.\n",
      "~~~~~~~~~~~~~~~~~~~~~~~~~~~~~~~~~~~~~~~~~~~~~~~~~~~~~~\n"
     ]
    }
   ],
   "source": [
    "refined_z = refine(A,b,c, dims, refined_z, verbose=True)"
   ]
  },
  {
   "cell_type": "code",
   "execution_count": 184,
   "metadata": {},
   "outputs": [],
   "source": [
    "problem.unpack_results?"
   ]
  },
  {
   "cell_type": "code",
   "execution_count": 122,
   "metadata": {},
   "outputs": [
    {
     "data": {
      "text/plain": [
       "<cvxpy.reductions.solution.Solution at 0xb2f094b70>"
      ]
     },
     "execution_count": 122,
     "metadata": {},
     "output_type": "execute_result"
    }
   ],
   "source": [
    "my_solution"
   ]
  },
  {
   "cell_type": "code",
   "execution_count": 110,
   "metadata": {},
   "outputs": [],
   "source": [
    "#solution"
   ]
  },
  {
   "cell_type": "code",
   "execution_count": 112,
   "metadata": {},
   "outputs": [
    {
     "data": {
      "text/plain": [
       "<cvxpy.reductions.solution.Solution at 0xb2ab99e10>"
      ]
     },
     "execution_count": 112,
     "metadata": {},
     "output_type": "execute_result"
    }
   ],
   "source": [
    "my_solution"
   ]
  },
  {
   "cell_type": "code",
   "execution_count": 97,
   "metadata": {},
   "outputs": [
    {
     "name": "stdout",
     "output_type": "stream",
     "text": [
      "----------------------------------------------------------------------------\n",
      "\tSCS v2.0.2 - Splitting Conic Solver\n",
      "\t(c) Brendan O'Donoghue, Stanford University, 2012-2017\n",
      "----------------------------------------------------------------------------\n",
      "Lin-sys: sparse-indirect, nnz in A = 8625, CG tol ~ 1/iter^(2.00)\n",
      "eps = 1.00e-05, alpha = 1.50, max_iters = 5000, normalize = 1, scale = 1.00\n",
      "acceleration_lookback = 20, rho_x = 1.00e-03\n",
      "Variables n = 2731, constraints m = 6795\n",
      "Cones:\tprimal zero / dual free vars: 3600\n",
      "\tlinear vars: 900\n",
      "\tsd vars: 2295, sd blks: 2\n",
      "Setup time: 2.35e-03s\n",
      "----------------------------------------------------------------------------\n",
      " Iter | pri res | dua res | rel gap | pri obj | dua obj | kap/tau | time (s)\n",
      "----------------------------------------------------------------------------\n",
      "     0| 6.07e+20  4.38e+20  1.00e+00 -2.81e+21  3.15e+21  9.37e+20  3.86e-03 \n",
      "   100| 1.54e-02  2.35e-03  1.28e-04  8.46e+00  8.46e+00  3.01e-16  1.35e-01 \n",
      "   200| 4.09e-03  6.27e-04  2.88e-05  8.47e+00  8.47e+00  1.61e-16  2.84e-01 \n",
      "   300| 1.27e-03  2.02e-04  5.77e-05  8.47e+00  8.47e+00  7.60e-16  4.31e-01 \n",
      "   400| 2.13e-04  3.63e-05  3.95e-06  8.47e+00  8.47e+00  1.77e-17  5.77e-01 \n",
      "   500| 7.93e-05  1.46e-05  1.84e-06  8.47e+00  8.47e+00  1.17e-15  7.17e-01 \n",
      "   600| 2.65e-05  4.19e-06  6.65e-07  8.47e+00  8.47e+00  1.84e-16  8.66e-01 \n",
      "   700| 1.39e-05  2.28e-06  3.68e-07  8.47e+00  8.47e+00  6.73e-16  1.00e+00 \n",
      "   720| 9.69e-06  1.52e-06  2.14e-08  8.47e+00  8.47e+00  3.37e-16  1.04e+00 \n",
      "----------------------------------------------------------------------------\n",
      "Status: Solved\n",
      "Timing: Solve time: 1.04e+00s\n",
      "\tLin-sys: avg # CG iterations: 6.86, avg solve time: 3.73e-04s\n",
      "\tCones: avg projection time: 3.55e-04s\n",
      "\tAcceleration: avg step time: 5.55e-04s\n",
      "----------------------------------------------------------------------------\n",
      "Error metrics:\n",
      "dist(s, K) = 1.8257e-06, dist(y, K*) = 2.4184e-08, s'y/|s||y| = -1.5079e-12\n",
      "primal res: |Ax + s - b|_2 / (1 + |b|_2) = 9.6916e-06\n",
      "dual res:   |A'y + c|_2 / (1 + |c|_2) = 1.5167e-06\n",
      "rel gap:    |c'x + b'y| / (1 + |c'x| + |b'y|) = 2.1416e-08\n",
      "----------------------------------------------------------------------------\n",
      "c'x = 8.4655, -b'y = 8.4655\n",
      "============================================================================\n"
     ]
    },
    {
     "data": {
      "text/plain": [
       "<cvxpy.reductions.solution.Solution at 0xb2aea2e48>"
      ]
     },
     "execution_count": 97,
     "metadata": {},
     "output_type": "execute_result"
    }
   ],
   "source": [
    "data = probl.get_problem_data(solver='SCS')\n",
    "solving_chain = data[1]\n",
    "\n",
    "solving_chain.solve(probl, warm_start=True, solver_opts={}, verbose=True)"
   ]
  },
  {
   "cell_type": "code",
   "execution_count": 90,
   "metadata": {},
   "outputs": [
    {
     "ename": "TypeError",
     "evalue": "get_problem_data() got an unexpected keyword argument 'warm_start'",
     "output_type": "error",
     "traceback": [
      "\u001b[0;31m---------------------------------------------------------------------------\u001b[0m",
      "\u001b[0;31mTypeError\u001b[0m                                 Traceback (most recent call last)",
      "\u001b[0;32m<ipython-input-90-b5f205ff1764>\u001b[0m in \u001b[0;36m<module>\u001b[0;34m()\u001b[0m\n\u001b[0;32m----> 1\u001b[0;31m \u001b[0mdata\u001b[0m \u001b[0;34m=\u001b[0m \u001b[0mprobl\u001b[0m\u001b[0;34m.\u001b[0m\u001b[0mget_problem_data\u001b[0m\u001b[0;34m(\u001b[0m\u001b[0msolver\u001b[0m\u001b[0;34m=\u001b[0m\u001b[0;34m'SCS'\u001b[0m\u001b[0;34m,\u001b[0m \u001b[0mwarm_start\u001b[0m\u001b[0;34m=\u001b[0m\u001b[0;32mTrue\u001b[0m\u001b[0;34m)\u001b[0m\u001b[0;34m\u001b[0m\u001b[0m\n\u001b[0m\u001b[1;32m      2\u001b[0m \u001b[0mA\u001b[0m\u001b[0;34m,\u001b[0m \u001b[0mb\u001b[0m\u001b[0;34m,\u001b[0m \u001b[0mc\u001b[0m\u001b[0;34m,\u001b[0m \u001b[0mdims\u001b[0m \u001b[0;34m=\u001b[0m \u001b[0mdata\u001b[0m\u001b[0;34m[\u001b[0m\u001b[0;36m0\u001b[0m\u001b[0;34m]\u001b[0m\u001b[0;34m[\u001b[0m\u001b[0;34m'A'\u001b[0m\u001b[0;34m]\u001b[0m\u001b[0;34m,\u001b[0m \u001b[0mdata\u001b[0m\u001b[0;34m[\u001b[0m\u001b[0;36m0\u001b[0m\u001b[0;34m]\u001b[0m\u001b[0;34m[\u001b[0m\u001b[0;34m'b'\u001b[0m\u001b[0;34m]\u001b[0m\u001b[0;34m,\u001b[0m \u001b[0mdata\u001b[0m\u001b[0;34m[\u001b[0m\u001b[0;36m0\u001b[0m\u001b[0;34m]\u001b[0m\u001b[0;34m[\u001b[0m\u001b[0;34m'c'\u001b[0m\u001b[0;34m]\u001b[0m\u001b[0;34m,\u001b[0m \u001b[0mdata\u001b[0m\u001b[0;34m[\u001b[0m\u001b[0;36m0\u001b[0m\u001b[0;34m]\u001b[0m\u001b[0;34m[\u001b[0m\u001b[0;34m'dims'\u001b[0m\u001b[0;34m]\u001b[0m\u001b[0;34m\u001b[0m\u001b[0m\n\u001b[1;32m      3\u001b[0m \u001b[0mdims_dict\u001b[0m \u001b[0;34m=\u001b[0m \u001b[0;34m{\u001b[0m\u001b[0;34m}\u001b[0m\u001b[0;34m\u001b[0m\u001b[0m\n\u001b[1;32m      4\u001b[0m \u001b[0mdims_dict\u001b[0m\u001b[0;34m[\u001b[0m\u001b[0;34m'l'\u001b[0m\u001b[0;34m]\u001b[0m \u001b[0;34m=\u001b[0m \u001b[0mint\u001b[0m\u001b[0;34m(\u001b[0m\u001b[0mdims\u001b[0m\u001b[0;34m.\u001b[0m\u001b[0mnonpos\u001b[0m\u001b[0;34m)\u001b[0m\u001b[0;34m\u001b[0m\u001b[0m\n\u001b[1;32m      5\u001b[0m \u001b[0mdims_dict\u001b[0m\u001b[0;34m[\u001b[0m\u001b[0;34m'z'\u001b[0m\u001b[0;34m]\u001b[0m \u001b[0;34m=\u001b[0m \u001b[0mint\u001b[0m\u001b[0;34m(\u001b[0m\u001b[0mdims\u001b[0m\u001b[0;34m.\u001b[0m\u001b[0mzero\u001b[0m\u001b[0;34m)\u001b[0m\u001b[0;34m\u001b[0m\u001b[0m\n",
      "\u001b[0;31mTypeError\u001b[0m: get_problem_data() got an unexpected keyword argument 'warm_start'"
     ]
    }
   ],
   "source": [
    "A, b, c, dims = data[0]['A'], data[0]['b'], data[0]['c'], data[0]['dims']\n",
    "dims_dict = {}\n",
    "dims_dict['l'] = int(dims.nonpos)\n",
    "dims_dict['z'] = int(dims.zero)\n",
    "dims_dict['q'] = list([int(el) for el in dims.soc])\n",
    "dims_dict['s'] = list([int(el) for el in dims.psd])"
   ]
  },
  {
   "cell_type": "code",
   "execution_count": 88,
   "metadata": {},
   "outputs": [
    {
     "name": "stdout",
     "output_type": "stream",
     "text": [
      "----------------------------------------------------------------------------\n",
      "\tSCS v2.0.2 - Splitting Conic Solver\n",
      "\t(c) Brendan O'Donoghue, Stanford University, 2012-2017\n",
      "----------------------------------------------------------------------------\n",
      "Lin-sys: sparse-indirect, nnz in A = 8625, CG tol ~ 1/iter^(2.00)\n",
      "eps = 1.00e-06, alpha = 1.50, max_iters = 1000, normalize = 1, scale = 1.00\n",
      "acceleration_lookback = 20, rho_x = 1.00e-03\n",
      "Variables n = 2731, constraints m = 6795\n",
      "Cones:\tprimal zero / dual free vars: 3600\n",
      "\tlinear vars: 900\n",
      "\tsd vars: 2295, sd blks: 2\n",
      "Setup time: 2.74e-03s\n",
      "----------------------------------------------------------------------------\n",
      " Iter | pri res | dua res | rel gap | pri obj | dua obj | kap/tau | time (s)\n",
      "----------------------------------------------------------------------------\n",
      "     0| 6.07e+20  4.38e+20  1.00e+00 -2.81e+21  3.15e+21  9.37e+20  4.60e-03 \n",
      "   100| 1.54e-02  2.35e-03  1.28e-04  8.46e+00  8.46e+00  3.01e-16  1.88e-01 \n",
      "   200| 4.09e-03  6.27e-04  2.88e-05  8.47e+00  8.47e+00  1.61e-16  3.57e-01 \n",
      "   300| 1.27e-03  2.02e-04  5.77e-05  8.47e+00  8.47e+00  7.60e-16  5.00e-01 \n",
      "   400| 2.13e-04  3.63e-05  3.95e-06  8.47e+00  8.47e+00  1.77e-17  6.56e-01 \n",
      "   500| 7.93e-05  1.46e-05  1.84e-06  8.47e+00  8.47e+00  1.17e-15  8.09e-01 \n",
      "   600| 2.65e-05  4.19e-06  6.65e-07  8.47e+00  8.47e+00  1.84e-16  9.71e-01 \n",
      "   700| 1.39e-05  2.28e-06  3.68e-07  8.47e+00  8.47e+00  6.73e-16  1.17e+00 \n",
      "   800| 5.80e-06  9.35e-07  2.92e-07  8.47e+00  8.47e+00  3.20e-16  1.37e+00 \n",
      "   900| 1.97e-06  3.07e-07  6.08e-08  8.47e+00  8.47e+00  3.74e-16  1.55e+00 \n",
      "   980| 7.16e-07  1.53e-07  8.88e-09  8.47e+00  8.47e+00  3.93e-16  1.67e+00 \n",
      "----------------------------------------------------------------------------\n",
      "Status: Solved\n",
      "Timing: Solve time: 1.67e+00s\n",
      "\tLin-sys: avg # CG iterations: 6.10, avg solve time: 4.09e-04s\n",
      "\tCones: avg projection time: 4.37e-04s\n",
      "\tAcceleration: avg step time: 6.64e-04s\n",
      "----------------------------------------------------------------------------\n",
      "Error metrics:\n",
      "dist(s, K) = 2.7516e-07, dist(y, K*) = 1.9843e-09, s'y/|s||y| = 2.8299e-12\n",
      "primal res: |Ax + s - b|_2 / (1 + |b|_2) = 7.1635e-07\n",
      "dual res:   |A'y + c|_2 / (1 + |c|_2) = 1.5259e-07\n",
      "rel gap:    |c'x + b'y| / (1 + |c'x| + |b'y|) = 8.8838e-09\n",
      "----------------------------------------------------------------------------\n",
      "c'x = 8.4655, -b'y = 8.4655\n",
      "============================================================================\n",
      "pres 7.16e-07, dres 2.09e-07, gap 8.88e-09\n",
      "\n",
      "\n",
      "~~~~~~~~~~~~~~~~~~~~~~~~~~~~~~~~~~~~~~~~~~~~~~~~~~~~~~\n",
      "               Conic Solution Refinement              \n",
      "\n",
      "it.    ||N(z)||_2       z[-1]   LSQR  btrks     time\n",
      "~~~~~~~~~~~~~~~~~~~~~~~~~~~~~~~~~~~~~~~~~~~~~~~~~~~~~~\n",
      "0\t2.23e-05\t1e+00\t  0\t0\t0.00\n",
      "1\t1.33e-06\t1e+00\t  1000\t0\t1.80\n",
      "2\t2.18e-07\t1e+00\t  1000\t0\t3.41\n",
      "~~~~~~~~~~~~~~~~~~~~~~~~~~~~~~~~~~~~~~~~~~~~~~~~~~~~~~\n",
      "Max num. refinement iters reached.\n",
      "~~~~~~~~~~~~~~~~~~~~~~~~~~~~~~~~~~~~~~~~~~~~~~~~~~~~~~\n",
      "pres 3.99e-09, dres 8.98e-08, gap 8.63e-13\n"
     ]
    }
   ],
   "source": [
    "x_con, s_con, y_con, info = solve(A,b,c,dims_dict,\n",
    "      max_lsqr_iters=1000, max_iters=2,\n",
    "      #refine_solver_time_ratio=1.,\n",
    "      verbose=True,\n",
    "     solver_options={'verbose':True, 'eps':1e-6, 'max_iters':1000})\n"
   ]
  },
  {
   "cell_type": "code",
   "execution_count": 89,
   "metadata": {},
   "outputs": [
    {
     "data": {
      "text/plain": [
       "({'A': <6795x2731 sparse matrix of type '<class 'numpy.float64'>'\n",
       "  \twith 8625 stored elements in Compressed Sparse Column format>,\n",
       "  'b': array([-0., -0., -0., ...,  0.,  0.,  0.]),\n",
       "  'c': array([1., 0., 0., ..., 0., 0., 0.]),\n",
       "  'dims': <cvxpy.reductions.solvers.conic_solvers.conic_solver.ConeDims at 0xb2ab0feb8>,\n",
       "  'offset': array([0.])},\n",
       " <cvxpy.reductions.solvers.solving_chain.SolvingChain at 0xb2848ab00>,\n",
       " [<cvxpy.reductions.inverse_data.InverseData at 0xb28545048>,\n",
       "  ({546: Variable((30, 30)), 1161: Variable((1830, 1)), 1162: Variable(())},\n",
       "   {546: Variable((30, 30)),\n",
       "    1161: Variable((60, 60), PSD=True),\n",
       "    1162: Variable(())},\n",
       "   {547: 547, 549: 549, 551: 551, 1163: 1163, 1165: 1165, 1167: 1167}),\n",
       "  <cvxpy.reductions.inverse_data.InverseData at 0xb2ae850b8>,\n",
       "  {'dims': <cvxpy.reductions.solvers.conic_solvers.conic_solver.ConeDims at 0xb2ab0feb8>,\n",
       "   'eq_constr': [Zero(Expression(AFFINE, UNKNOWN, (30, 30))),\n",
       "    Zero(Expression(AFFINE, UNKNOWN, (30, 30))),\n",
       "    Zero(Expression(AFFINE, UNKNOWN, (30, 30))),\n",
       "    Zero(Expression(AFFINE, UNKNOWN, (30, 30)))],\n",
       "   'offset': 0.0,\n",
       "   'other_constr': [NonPos(Expression(AFFINE, UNKNOWN, (30, 30))),\n",
       "    PSD(Expression(AFFINE, UNKNOWN, (60, 60))),\n",
       "    PSD(Expression(AFFINE, UNKNOWN, (30, 30)))],\n",
       "   'var_id': 1182}])"
      ]
     },
     "execution_count": 89,
     "metadata": {},
     "output_type": "execute_result"
    }
   ],
   "source": [
    "data"
   ]
  },
  {
   "cell_type": "code",
   "execution_count": null,
   "metadata": {},
   "outputs": [],
   "source": [
    "data[1].apply"
   ]
  },
  {
   "cell_type": "code",
   "execution_count": null,
   "metadata": {},
   "outputs": [],
   "source": [
    "data[1].accepts"
   ]
  },
  {
   "cell_type": "code",
   "execution_count": null,
   "metadata": {},
   "outputs": [],
   "source": [
    "data[1].accepts"
   ]
  },
  {
   "cell_type": "code",
   "execution_count": null,
   "metadata": {},
   "outputs": [],
   "source": [
    "data[1].solve"
   ]
  },
  {
   "cell_type": "code",
   "execution_count": 55,
   "metadata": {},
   "outputs": [
    {
     "data": {
      "text/plain": [
       "['__abstractmethods__',\n",
       " '__class__',\n",
       " '__delattr__',\n",
       " '__dict__',\n",
       " '__dir__',\n",
       " '__doc__',\n",
       " '__eq__',\n",
       " '__format__',\n",
       " '__ge__',\n",
       " '__getattribute__',\n",
       " '__gt__',\n",
       " '__hash__',\n",
       " '__init__',\n",
       " '__init_subclass__',\n",
       " '__le__',\n",
       " '__lt__',\n",
       " '__module__',\n",
       " '__ne__',\n",
       " '__new__',\n",
       " '__reduce__',\n",
       " '__reduce_ex__',\n",
       " '__repr__',\n",
       " '__setattr__',\n",
       " '__sizeof__',\n",
       " '__str__',\n",
       " '__subclasshook__',\n",
       " '__weakref__',\n",
       " '_abc_cache',\n",
       " '_abc_negative_cache',\n",
       " '_abc_negative_cache_version',\n",
       " '_abc_registry',\n",
       " 'accepts',\n",
       " 'apply',\n",
       " 'invert',\n",
       " 'reductions',\n",
       " 'solve',\n",
       " 'solve_via_data',\n",
       " 'solver']"
      ]
     },
     "execution_count": 55,
     "metadata": {},
     "output_type": "execute_result"
    }
   ],
   "source": [
    "dir(data[1])"
   ]
  },
  {
   "cell_type": "code",
   "execution_count": 31,
   "metadata": {},
   "outputs": [],
   "source": [
    "#(B-A).value"
   ]
  },
  {
   "cell_type": "code",
   "execution_count": null,
   "metadata": {},
   "outputs": [],
   "source": []
  }
 ],
 "metadata": {
  "kernelspec": {
   "display_name": "Python 3",
   "language": "python",
   "name": "python3"
  },
  "language_info": {
   "codemirror_mode": {
    "name": "ipython",
    "version": 3
   },
   "file_extension": ".py",
   "mimetype": "text/x-python",
   "name": "python",
   "nbconvert_exporter": "python",
   "pygments_lexer": "ipython3",
   "version": "3.6.4"
  }
 },
 "nbformat": 4,
 "nbformat_minor": 2
}
