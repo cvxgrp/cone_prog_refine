{
 "cells": [
  {
   "cell_type": "code",
   "execution_count": 1,
   "metadata": {},
   "outputs": [],
   "source": [
    "import sys, os\n",
    "sys.path.append(os.path.abspath('..'))\n",
    "import cone_prog_refine as cpr \n",
    "import time\n",
    "\n",
    "import cvxpy as cvx\n",
    "import numpy as np\n",
    "\n",
    "%matplotlib inline\n",
    "import matplotlib.pyplot as plt"
   ]
  },
  {
   "cell_type": "code",
   "execution_count": 2,
   "metadata": {},
   "outputs": [],
   "source": [
    "m,n = 200,500\n",
    "A = np.random.randn(m,n)\n",
    "x = np.random.randn(n)\n",
    "y = np.random.randn(n)"
   ]
  },
  {
   "cell_type": "code",
   "execution_count": 3,
   "metadata": {},
   "outputs": [],
   "source": [
    "def test_mat(A):\n",
    "    print('m,n = ', (m,n))\n",
    "    error = A@x + A@y - A@(x+y)\n",
    "    print('norm error', np.linalg.norm(error))\n",
    "    print('max abs error', np.max(np.abs(error)))\n",
    "    u,s,v = np.linalg.svd(A, full_matrices=False)\n",
    "    assert np.allclose(u @ np.diag(s) @ v, A)\n",
    "    print('cond number %g' % (s[0]/s[-1]))\n",
    "    #plt.plot(error)"
   ]
  },
  {
   "cell_type": "code",
   "execution_count": 4,
   "metadata": {},
   "outputs": [
    {
     "name": "stdout",
     "output_type": "stream",
     "text": [
      "m,n =  (200, 500)\n",
      "norm error 1.778415110647672e-13\n",
      "max abs error 3.907985046680551e-14\n",
      "cond number 4.37165\n"
     ]
    }
   ],
   "source": [
    "test_mat(A)"
   ]
  },
  {
   "cell_type": "code",
   "execution_count": 5,
   "metadata": {},
   "outputs": [],
   "source": [
    "u,s,v = np.linalg.svd(A, full_matrices=False)\n",
    "assert np.allclose(u @ np.diag(s) @ v, A)"
   ]
  },
  {
   "cell_type": "code",
   "execution_count": 6,
   "metadata": {},
   "outputs": [],
   "source": [
    "s[0] *= 1000"
   ]
  },
  {
   "cell_type": "code",
   "execution_count": 7,
   "metadata": {},
   "outputs": [
    {
     "name": "stdout",
     "output_type": "stream",
     "text": [
      "m,n =  (200, 500)\n",
      "norm error 2.4064684462945157e-11\n",
      "max abs error 9.094947017729282e-12\n",
      "cond number 4371.65\n"
     ]
    }
   ],
   "source": [
    "test_mat(u @ np.diag(s) @ v)"
   ]
  },
  {
   "cell_type": "code",
   "execution_count": 8,
   "metadata": {},
   "outputs": [],
   "source": [
    "s[0] *= 1000"
   ]
  },
  {
   "cell_type": "code",
   "execution_count": 9,
   "metadata": {},
   "outputs": [
    {
     "name": "stdout",
     "output_type": "stream",
     "text": [
      "m,n =  (200, 500)\n",
      "norm error 2.404528305367108e-08\n",
      "max abs error 7.450580596923828e-09\n",
      "cond number 4.37165e+06\n"
     ]
    }
   ],
   "source": [
    "test_mat(u @ np.diag(s) @ v)"
   ]
  },
  {
   "cell_type": "code",
   "execution_count": 10,
   "metadata": {},
   "outputs": [],
   "source": [
    "s[-1] = 1E-14"
   ]
  },
  {
   "cell_type": "code",
   "execution_count": 11,
   "metadata": {},
   "outputs": [
    {
     "name": "stdout",
     "output_type": "stream",
     "text": [
      "m,n =  (200, 500)\n",
      "norm error 2.3815922049635305e-08\n",
      "max abs error 7.450580596923828e-09\n",
      "cond number 2.35825e+16\n"
     ]
    }
   ],
   "source": [
    "test_mat(u @ np.diag(s) @ v)"
   ]
  },
  {
   "cell_type": "code",
   "execution_count": 12,
   "metadata": {},
   "outputs": [],
   "source": [
    "s[1] *= 1000"
   ]
  },
  {
   "cell_type": "code",
   "execution_count": 13,
   "metadata": {},
   "outputs": [
    {
     "name": "stdout",
     "output_type": "stream",
     "text": [
      "m,n =  (200, 500)\n",
      "norm error 2.2704831212022484e-08\n",
      "max abs error 7.450580596923828e-09\n",
      "cond number 2.36574e+16\n"
     ]
    }
   ],
   "source": [
    "test_mat(u @ np.diag(s) @ v)"
   ]
  },
  {
   "cell_type": "code",
   "execution_count": 14,
   "metadata": {},
   "outputs": [],
   "source": [
    "s[1] *= 1E6"
   ]
  },
  {
   "cell_type": "code",
   "execution_count": 15,
   "metadata": {},
   "outputs": [
    {
     "name": "stdout",
     "output_type": "stream",
     "text": [
      "m,n =  (200, 500)\n",
      "norm error 2.9177021590862225e-05\n",
      "max abs error 1.049041748046875e-05\n",
      "cond number 2.25184e+15\n"
     ]
    }
   ],
   "source": [
    "test_mat(u @ np.diag(s) @ v)"
   ]
  },
  {
   "cell_type": "code",
   "execution_count": 16,
   "metadata": {},
   "outputs": [
    {
     "data": {
      "text/plain": [
       "[<matplotlib.lines.Line2D at 0xb2271cc18>]"
      ]
     },
     "execution_count": 16,
     "metadata": {},
     "output_type": "execute_result"
    },
    {
     "data": {
      "image/png": "[encoded data removed]",
      "text/plain": [
       "<matplotlib.figure.Figure at 0xb1fbef438>"
      ]
     },
     "metadata": {},
     "output_type": "display_data"
    }
   ],
   "source": [
    "plt.semilogy(s)"
   ]
  },
  {
   "cell_type": "markdown",
   "metadata": {},
   "source": [
    "## Can we help? "
   ]
  },
  {
   "cell_type": "code",
   "execution_count": 17,
   "metadata": {},
   "outputs": [
    {
     "data": {
      "text/plain": [
       "[<matplotlib.lines.Line2D at 0xb24d83be0>]"
      ]
     },
     "execution_count": 17,
     "metadata": {},
     "output_type": "execute_result"
    },
    {
     "data": {
      "image/png": "[encoded data removed]",
      "text/plain": [
       "<matplotlib.figure.Figure at 0xb24d83b00>"
      ]
     },
     "metadata": {},
     "output_type": "display_data"
    }
   ],
   "source": [
    "bad_A = u @ np.diag(s) @ v\n",
    "plt.semilogy(np.linalg.svd(A)[1])\n",
    "plt.semilogy(np.linalg.svd(bad_A)[1])"
   ]
  },
  {
   "cell_type": "code",
   "execution_count": 47,
   "metadata": {},
   "outputs": [],
   "source": [
    "u,s,v = np.linalg.svd(bad_A, full_matrices=False)"
   ]
  },
  {
   "cell_type": "code",
   "execution_count": 48,
   "metadata": {},
   "outputs": [],
   "source": [
    "low_rank_A = u[:,:2] @ np.diag(s[:2]) @ v[:2]\n",
    "#kernel_A = u[:,-1:] @ np.diag(s[-1:]) @ v[-1:]\n",
    "#residual = bad_A - low_rank_A\n",
    "residual = u[:,2:] @ np.diag(s[2:]) @ v[2:]\n",
    "#residual -= kernel_A"
   ]
  },
  {
   "cell_type": "code",
   "execution_count": 49,
   "metadata": {},
   "outputs": [
    {
     "data": {
      "text/plain": [
       "[<matplotlib.lines.Line2D at 0xb271cf860>]"
      ]
     },
     "execution_count": 49,
     "metadata": {},
     "output_type": "execute_result"
    },
    {
     "data": {
      "image/png": "[encoded data removed]",
      "text/plain": [
       "<matplotlib.figure.Figure at 0xb26d59470>"
      ]
     },
     "metadata": {},
     "output_type": "display_data"
    }
   ],
   "source": [
    "plt.semilogy(np.linalg.svd(low_rank_A)[1])"
   ]
  },
  {
   "cell_type": "code",
   "execution_count": 51,
   "metadata": {},
   "outputs": [
    {
     "data": {
      "text/plain": [
       "[<matplotlib.lines.Line2D at 0xb271f7f60>]"
      ]
     },
     "execution_count": 51,
     "metadata": {},
     "output_type": "execute_result"
    },
    {
     "data": {
      "image/png": "[encoded data removed]",
      "text/plain": [
       "<matplotlib.figure.Figure at 0xb252b6b38>"
      ]
     },
     "metadata": {},
     "output_type": "display_data"
    }
   ],
   "source": [
    "plt.semilogy(np.linalg.svd(residual)[1])"
   ]
  },
  {
   "cell_type": "code",
   "execution_count": 52,
   "metadata": {},
   "outputs": [
    {
     "name": "stdout",
     "output_type": "stream",
     "text": [
      "m,n =  (200, 500)\n",
      "norm error 2.9177021590862225e-05\n",
      "max abs error 1.049041748046875e-05\n",
      "cond number 2.25184e+15\n"
     ]
    }
   ],
   "source": [
    "test_mat(bad_A)"
   ]
  },
  {
   "cell_type": "code",
   "execution_count": 53,
   "metadata": {},
   "outputs": [],
   "source": [
    "def A_dot(x):\n",
    "    return low_rank_A @ x + residual @ x"
   ]
  },
  {
   "cell_type": "code",
   "execution_count": 54,
   "metadata": {},
   "outputs": [
    {
     "data": {
      "text/plain": [
       "(2.563885705692819e-05, 5.7220458984375e-06)"
      ]
     },
     "execution_count": 54,
     "metadata": {},
     "output_type": "execute_result"
    }
   ],
   "source": [
    "error = A_dot(x) + A_dot(y) - A_dot(x + y)\n",
    "np.linalg.norm(error), np.max(np.abs(error))"
   ]
  },
  {
   "cell_type": "code",
   "execution_count": 56,
   "metadata": {},
   "outputs": [
    {
     "data": {
      "text/plain": [
       "(2.5938716642575504e-05, 5.7220458984375e-06)"
      ]
     },
     "execution_count": 56,
     "metadata": {},
     "output_type": "execute_result"
    }
   ],
   "source": [
    "error = (low_rank_A @ x) + low_rank_A @ y  - low_rank_A @ (x + y)\n",
    "np.linalg.norm(error), np.max(np.abs(error))"
   ]
  },
  {
   "cell_type": "code",
   "execution_count": null,
   "metadata": {},
   "outputs": [],
   "source": [
    "import cvxpy as cvx\n",
    "\n",
    "n = 1000\n",
    "x = cvx.Variable(n)\n",
    "\n",
    "A ="
   ]
  }
 ],
 "metadata": {
  "kernelspec": {
   "display_name": "Python 3",
   "language": "python",
   "name": "python3"
  },
  "language_info": {
   "codemirror_mode": {
    "name": "ipython",
    "version": 3
   },
   "file_extension": ".py",
   "mimetype": "text/x-python",
   "name": "python",
   "nbconvert_exporter": "python",
   "pygments_lexer": "ipython3",
   "version": "3.6.8"
  }
 },
 "nbformat": 4,
 "nbformat_minor": 2
}
