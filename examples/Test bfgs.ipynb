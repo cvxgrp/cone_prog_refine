{
 "cells": [
  {
   "cell_type": "code",
   "execution_count": 10,
   "metadata": {},
   "outputs": [],
   "source": [
    "import sys, os\n",
    "sys.path.append(os.path.abspath('..'))\n",
    "from cone_prog_refine import *\n",
    "import numpy as np\n",
    "import scipy.optimize"
   ]
  },
  {
   "cell_type": "code",
   "execution_count": 88,
   "metadata": {},
   "outputs": [],
   "source": [
    "dim_dict = {'z': 2, 'l': 20,  'q': [30, 40], 's': [13, 14, 15], 'ep': 100, 'ed': 100}\n",
    "A, b, c, _, x_true, s_true, y_true = generate_problem(dim_dict, mode='solvable')\n",
    "cache = make_prod_cone_cache(dim_dict)\n",
    "z_true = xsy2z(x_true, s_true, y_true)\n",
    "residual(z_true, A, b, c, cache)\n",
    "m,n = A.shape"
   ]
  },
  {
   "cell_type": "code",
   "execution_count": 89,
   "metadata": {},
   "outputs": [],
   "source": [
    "fun = lambda z: np.linalg.norm(residual(z, A, b, c, cache) / z[-1] )**2\n",
    "\n",
    "def lsqr_D(z, dz, A, b, c, cache, residual):\n",
    "    return residual_D(z, dz, A, b, c, cache) / z[-1] - (residual /\n",
    "                                                        z[-1]**2) * dz[-1]\n",
    "\n",
    "def lsqr_DT(z, dres, A, b, c, cache, residual):\n",
    "    m, n = A.shape\n",
    "    e_minus1 = np.zeros(n + m + 1)\n",
    "    e_minus1[-1] = 1.\n",
    "    return residual_DT(z, dres, A, b, c, cache) / z[-1] - (dres@residual /\n",
    "                                                           z[-1]**2) * e_minus1\n",
    "\n",
    "def jac(z):\n",
    "    res = residual(z, A, b, c, cache)\n",
    "    return (lsqr_D(z, res, A, b, c, cache, res) + lsqr_DT(z, res, A, b, c, cache, res))"
   ]
  },
  {
   "cell_type": "code",
   "execution_count": 90,
   "metadata": {},
   "outputs": [],
   "source": [
    "z_init = np.ones(n+m+1)\n",
    "#z_init = z_true + np.random.randn(n+m+1) * 1E-1"
   ]
  },
  {
   "cell_type": "code",
   "execution_count": 91,
   "metadata": {},
   "outputs": [],
   "source": [
    "result = scipy.optimize.fmin_l_bfgs_b(fun, z_init, fprime = jac, disp=101)"
   ]
  },
  {
   "cell_type": "code",
   "execution_count": 92,
   "metadata": {},
   "outputs": [
    {
     "data": {
      "text/plain": [
       "(array([ -3.86584532,   4.87070764,  -2.89125937, ...,  12.38940919,\n",
       "         -1.88933318, 359.05229225]),\n",
       " 0.7253739874488886,\n",
       " {'funcalls': 130,\n",
       "  'grad': array([-0.00102058,  0.00342217, -0.00166726, ..., -0.02125222,\n",
       "          0.02917141, -0.03199521]),\n",
       "  'nit': 22,\n",
       "  'task': b'ABNORMAL_TERMINATION_IN_LNSRCH',\n",
       "  'warnflag': 2})"
      ]
     },
     "execution_count": 92,
     "metadata": {},
     "output_type": "execute_result"
    }
   ],
   "source": [
    "result"
   ]
  },
  {
   "cell_type": "code",
   "execution_count": 93,
   "metadata": {},
   "outputs": [
    {
     "data": {
      "text/plain": [
       "(16529.539656676192, 0.725373987448884)"
      ]
     },
     "execution_count": 93,
     "metadata": {},
     "output_type": "execute_result"
    }
   ],
   "source": [
    "fun(z_init), fun(result[0])"
   ]
  },
  {
   "cell_type": "code",
   "execution_count": 94,
   "metadata": {},
   "outputs": [
    {
     "name": "stdout",
     "output_type": "stream",
     "text": [
      "\n",
      "\n",
      "~~~~~~~~~~~~~~~~~~~~~~~~~~~~~~~~~~~~~~~~~~~~~~~~~~~~~~\n",
      "               Conic Solution Refinement              \n",
      "\n",
      "it.    ||N(z)||_2       z[-1]   LSQR  btrks     time\n",
      "~~~~~~~~~~~~~~~~~~~~~~~~~~~~~~~~~~~~~~~~~~~~~~~~~~~~~~\n",
      "0\t8.52e-01\t1e+00\t  0\t0\t0.01\n",
      "1\t7.11e-01\t1e+00\t  30\t1\t0.16\n",
      "2\t3.95e-01\t1e+00\t  30\t0\t0.31\n",
      "3\t3.95e-01\t1e+00\t  30\t4\t0.45\n",
      "~~~~~~~~~~~~~~~~~~~~~~~~~~~~~~~~~~~~~~~~~~~~~~~~~~~~~~\n",
      "Hit maximum number of backtracks.\n",
      "~~~~~~~~~~~~~~~~~~~~~~~~~~~~~~~~~~~~~~~~~~~~~~~~~~~~~~\n"
     ]
    }
   ],
   "source": [
    "z_approx = result[0]\n",
    "z_approx = refine(A, b, c, dim_dict, z_approx, iters=100)         "
   ]
  },
  {
   "cell_type": "markdown",
   "metadata": {},
   "source": [
    "## Anderson "
   ]
  },
  {
   "cell_type": "code",
   "execution_count": 108,
   "metadata": {},
   "outputs": [
    {
     "name": "stdout",
     "output_type": "stream",
     "text": [
      "0:  |F(x)| = 8.55623; step 1; tol 0.00398608\n",
      "1:  |F(x)| = 8.02789; step 1; tol 0.792283\n",
      "2:  |F(x)| = 4.42451; step 1; tol 0.564941\n",
      "3:  |F(x)| = 3.35363; step 1; tol 0.517062\n",
      "4:  |F(x)| = 2.58661; step 1; tol 0.535396\n",
      "5:  |F(x)| = 2.08478; step 1; tol 0.584656\n",
      "6:  |F(x)| = 1.73968; step 1; tol 0.626706\n",
      "7:  |F(x)| = 1.49672; step 1; tol 0.666162\n",
      "8:  |F(x)| = 1.32398; step 1; tol 0.704253\n",
      "9:  |F(x)| = 1.20148; step 1; tol 0.741164\n",
      "10:  |F(x)| = 1.11541; step 1; tol 0.775665\n",
      "11:  |F(x)| = 1.06396; step 1; tol 0.818884\n",
      "12:  |F(x)| = 1.03683; step 1; tol 0.854694\n",
      "13:  |F(x)| = 1.02398; step 1; tol 0.877822\n",
      "14:  |F(x)| = 1.01892; step 1; tol 0.891124\n",
      "15:  |F(x)| = 1.01668; step 1; tol 0.896059\n",
      "16:  |F(x)| = 1.01556; step 1; tol 0.898014\n",
      "17:  |F(x)| = 1.0151; step 1; tol 0.899182\n",
      "18:  |F(x)| = 1.01531; step 1; tol 0.900372\n",
      "19:  |F(x)| = 1.01548; step 1; tol 0.900305\n",
      "20:  |F(x)| = 1.01527; step 1; tol 0.899633\n",
      "21:  |F(x)| = 1.01918; step 1; tol 0.906948\n",
      "22:  |F(x)| = 1.01957; step 1; tol 0.900674\n",
      "23:  |F(x)| = 1.02021; step 1; tol 0.901139\n",
      "24:  |F(x)| = 1.02151; step 1; tol 0.902296\n",
      "25:  |F(x)| = 1.02488; step 1; tol 0.905941\n",
      "26:  |F(x)| = 1.04535; step 1; tol 0.936316\n",
      "27:  |F(x)| = 12.7123; step 1; tol 0.9999\n",
      "28:  |F(x)| = 1.01506; step 1; tol 0.89982\n",
      "29:  |F(x)| = 1.07423; step 1; tol 0.9999\n",
      "30:  |F(x)| = 12.7111; step 1; tol 0.9999\n",
      "31:  |F(x)| = 12.7111; step 0.00660483; tol 0.899999\n",
      "32:  |F(x)| = 1.01525; step 1; tol 0.728999\n",
      "33:  |F(x)| = 12.7109; step 1; tol 0.9999\n",
      "34:  |F(x)| = 12.7109; step 1; tol 0.899999\n",
      "35:  |F(x)| = 12.711; step 1; tol 0.900004\n",
      "36:  |F(x)| = 1.01418; step 1; tol 0.729007\n",
      "37:  |F(x)| = 1.01418; step 1; tol 0.899999\n",
      "38:  |F(x)| = 12.711; step 1; tol 0.9999\n",
      "39:  |F(x)| = 12.711; step 1; tol 0.9\n"
     ]
    },
    {
     "name": "stderr",
     "output_type": "stream",
     "text": [
      "/Users/enzo/anaconda3/lib/python3.6/site-packages/scipy/optimize/nonlin.py:1121: LinAlgWarning: scipy.linalg.solve\n",
      "Ill-conditioned matrix detected. Result is not guaranteed to be accurate.\n",
      "Reciprocal condition number3.707548e-17\n",
      "  gamma = solve(self.a, df_f)\n",
      "/Users/enzo/anaconda3/lib/python3.6/site-packages/scipy/optimize/nonlin.py:1121: LinAlgWarning: scipy.linalg.solve\n",
      "Ill-conditioned matrix detected. Result is not guaranteed to be accurate.\n",
      "Reciprocal condition number3.209588e-17\n",
      "  gamma = solve(self.a, df_f)\n",
      "/Users/enzo/anaconda3/lib/python3.6/site-packages/scipy/optimize/nonlin.py:1121: LinAlgWarning: scipy.linalg.solve\n",
      "Ill-conditioned matrix detected. Result is not guaranteed to be accurate.\n",
      "Reciprocal condition number1.098793e-26\n",
      "  gamma = solve(self.a, df_f)\n"
     ]
    },
    {
     "name": "stdout",
     "output_type": "stream",
     "text": [
      "40:  |F(x)| = 12.711; step 1; tol 0.9\n"
     ]
    },
    {
     "name": "stderr",
     "output_type": "stream",
     "text": [
      "/Users/enzo/anaconda3/lib/python3.6/site-packages/scipy/optimize/nonlin.py:1121: LinAlgWarning: scipy.linalg.solve\n",
      "Ill-conditioned matrix detected. Result is not guaranteed to be accurate.\n",
      "Reciprocal condition number4.781830e-28\n",
      "  gamma = solve(self.a, df_f)\n"
     ]
    },
    {
     "name": "stdout",
     "output_type": "stream",
     "text": [
      "41:  |F(x)| = 12.711; step 1; tol 0.9\n"
     ]
    },
    {
     "name": "stderr",
     "output_type": "stream",
     "text": [
      "/Users/enzo/anaconda3/lib/python3.6/site-packages/scipy/optimize/nonlin.py:1121: LinAlgWarning: scipy.linalg.solve\n",
      "Ill-conditioned matrix detected. Result is not guaranteed to be accurate.\n",
      "Reciprocal condition number2.229338e-33\n",
      "  gamma = solve(self.a, df_f)\n"
     ]
    },
    {
     "name": "stdout",
     "output_type": "stream",
     "text": [
      "42:  |F(x)| = 12.711; step 1; tol 0.9\n",
      "43:  |F(x)| = 0.962631; step 1; tol 0.729\n",
      "44:  |F(x)| = 0.962631; step 1; tol 0.9\n"
     ]
    },
    {
     "name": "stderr",
     "output_type": "stream",
     "text": [
      "/Users/enzo/anaconda3/lib/python3.6/site-packages/scipy/optimize/nonlin.py:1121: LinAlgWarning: scipy.linalg.solve\n",
      "Ill-conditioned matrix detected. Result is not guaranteed to be accurate.\n",
      "Reciprocal condition number1.132853e-33\n",
      "  gamma = solve(self.a, df_f)\n",
      "/Users/enzo/anaconda3/lib/python3.6/site-packages/scipy/optimize/nonlin.py:1121: LinAlgWarning: scipy.linalg.solve\n",
      "Ill-conditioned matrix detected. Result is not guaranteed to be accurate.\n",
      "Reciprocal condition number9.911779e-34\n",
      "  gamma = solve(self.a, df_f)\n",
      "/Users/enzo/anaconda3/lib/python3.6/site-packages/scipy/optimize/nonlin.py:1121: LinAlgWarning: scipy.linalg.solve\n",
      "Ill-conditioned matrix detected. Result is not guaranteed to be accurate.\n",
      "Reciprocal condition number1.610400e-37\n",
      "  gamma = solve(self.a, df_f)\n"
     ]
    },
    {
     "name": "stdout",
     "output_type": "stream",
     "text": [
      "45:  |F(x)| = 0.962631; step 1; tol 0.9\n",
      "46:  |F(x)| = 12.711; step 1; tol 0.9999\n"
     ]
    },
    {
     "name": "stderr",
     "output_type": "stream",
     "text": [
      "/Users/enzo/anaconda3/lib/python3.6/site-packages/scipy/optimize/nonlin.py:1121: LinAlgWarning: scipy.linalg.solve\n",
      "Ill-conditioned matrix detected. Result is not guaranteed to be accurate.\n",
      "Reciprocal condition number1.461238e-37\n",
      "  gamma = solve(self.a, df_f)\n",
      "/Users/enzo/anaconda3/lib/python3.6/site-packages/scipy/optimize/nonlin.py:1121: LinAlgWarning: scipy.linalg.solve\n",
      "Ill-conditioned matrix detected. Result is not guaranteed to be accurate.\n",
      "Reciprocal condition number1.299820e-37\n",
      "  gamma = solve(self.a, df_f)\n"
     ]
    },
    {
     "name": "stdout",
     "output_type": "stream",
     "text": [
      "47:  |F(x)| = 12.711; step 1; tol 0.9\n"
     ]
    },
    {
     "name": "stderr",
     "output_type": "stream",
     "text": [
      "/Users/enzo/anaconda3/lib/python3.6/site-packages/scipy/optimize/nonlin.py:1121: LinAlgWarning: scipy.linalg.solve\n",
      "Ill-conditioned matrix detected. Result is not guaranteed to be accurate.\n",
      "Reciprocal condition number1.448225e-37\n",
      "  gamma = solve(self.a, df_f)\n"
     ]
    },
    {
     "name": "stdout",
     "output_type": "stream",
     "text": [
      "48:  |F(x)| = 12.711; step 1; tol 0.9\n",
      "49:  |F(x)| = 0.962631; step 1; tol 0.729\n",
      "50:  |F(x)| = 12.711; step 1; tol 0.9999\n"
     ]
    },
    {
     "name": "stderr",
     "output_type": "stream",
     "text": [
      "/Users/enzo/anaconda3/lib/python3.6/site-packages/scipy/optimize/nonlin.py:1121: LinAlgWarning: scipy.linalg.solve\n",
      "Ill-conditioned matrix detected. Result is not guaranteed to be accurate.\n",
      "Reciprocal condition number1.649711e-37\n",
      "  gamma = solve(self.a, df_f)\n",
      "/Users/enzo/anaconda3/lib/python3.6/site-packages/scipy/optimize/nonlin.py:1121: LinAlgWarning: scipy.linalg.solve\n",
      "Ill-conditioned matrix detected. Result is not guaranteed to be accurate.\n",
      "Reciprocal condition number1.638068e-36\n",
      "  gamma = solve(self.a, df_f)\n",
      "/Users/enzo/anaconda3/lib/python3.6/site-packages/scipy/optimize/nonlin.py:1121: LinAlgWarning: scipy.linalg.solve\n",
      "Ill-conditioned matrix detected. Result is not guaranteed to be accurate.\n",
      "Reciprocal condition number1.680344e-36\n",
      "  gamma = solve(self.a, df_f)\n"
     ]
    },
    {
     "name": "stdout",
     "output_type": "stream",
     "text": [
      "51:  |F(x)| = 12.711; step 1; tol 0.9\n"
     ]
    },
    {
     "name": "stderr",
     "output_type": "stream",
     "text": [
      "/Users/enzo/anaconda3/lib/python3.6/site-packages/scipy/optimize/nonlin.py:1121: LinAlgWarning: scipy.linalg.solve\n",
      "Ill-conditioned matrix detected. Result is not guaranteed to be accurate.\n",
      "Reciprocal condition number1.708189e-36\n",
      "  gamma = solve(self.a, df_f)\n"
     ]
    },
    {
     "name": "stdout",
     "output_type": "stream",
     "text": [
      "52:  |F(x)| = 12.711; step 1; tol 0.9\n"
     ]
    },
    {
     "name": "stderr",
     "output_type": "stream",
     "text": [
      "/Users/enzo/anaconda3/lib/python3.6/site-packages/scipy/optimize/nonlin.py:1121: LinAlgWarning: scipy.linalg.solve\n",
      "Ill-conditioned matrix detected. Result is not guaranteed to be accurate.\n",
      "Reciprocal condition number1.941119e-36\n",
      "  gamma = solve(self.a, df_f)\n"
     ]
    },
    {
     "name": "stdout",
     "output_type": "stream",
     "text": [
      "53:  |F(x)| = 12.711; step 1; tol 0.9\n"
     ]
    },
    {
     "name": "stderr",
     "output_type": "stream",
     "text": [
      "/Users/enzo/anaconda3/lib/python3.6/site-packages/scipy/optimize/nonlin.py:1121: LinAlgWarning: scipy.linalg.solve\n",
      "Ill-conditioned matrix detected. Result is not guaranteed to be accurate.\n",
      "Reciprocal condition number2.283010e-36\n",
      "  gamma = solve(self.a, df_f)\n"
     ]
    },
    {
     "name": "stdout",
     "output_type": "stream",
     "text": [
      "54:  |F(x)| = 12.711; step 1; tol 0.9\n"
     ]
    },
    {
     "name": "stderr",
     "output_type": "stream",
     "text": [
      "/Users/enzo/anaconda3/lib/python3.6/site-packages/scipy/optimize/nonlin.py:1121: LinAlgWarning: scipy.linalg.solve\n",
      "Ill-conditioned matrix detected. Result is not guaranteed to be accurate.\n",
      "Reciprocal condition number2.283320e-36\n",
      "  gamma = solve(self.a, df_f)\n"
     ]
    },
    {
     "name": "stdout",
     "output_type": "stream",
     "text": [
      "55:  |F(x)| = 12.711; step 1; tol 0.9\n",
      "56:  |F(x)| = 12.711; step 0; tol 0.9\n"
     ]
    },
    {
     "name": "stderr",
     "output_type": "stream",
     "text": [
      "/Users/enzo/anaconda3/lib/python3.6/site-packages/scipy/optimize/nonlin.py:1121: LinAlgWarning: scipy.linalg.solve\n",
      "Ill-conditioned matrix detected. Result is not guaranteed to be accurate.\n",
      "Reciprocal condition number2.323920e-36\n",
      "  gamma = solve(self.a, df_f)\n"
     ]
    },
    {
     "name": "stdout",
     "output_type": "stream",
     "text": [
      "57:  |F(x)| = 12.711; step 1; tol 0.9\n",
      "58:  |F(x)| = 12.711; step 1; tol 0.9\n",
      "59:  |F(x)| = 12.711; step 1; tol 0.9\n",
      "60:  |F(x)| = 12.711; step 1; tol 0.9\n",
      "61:  |F(x)| = 12.711; step 1; tol 0.9\n",
      "62:  |F(x)| = 12.711; step 1; tol 0.9\n",
      "63:  |F(x)| = 12.711; step 1; tol 0.9\n",
      "64:  |F(x)| = 12.711; step 1; tol 0.9\n",
      "65:  |F(x)| = 12.711; step 1; tol 0.9\n",
      "66:  |F(x)| = 12.711; step 1; tol 0.9\n",
      "67:  |F(x)| = 12.711; step 1; tol 0.9\n",
      "68:  |F(x)| = 12.711; step 1; tol 0.9\n",
      "69:  |F(x)| = 12.711; step 1; tol 0.9\n",
      "70:  |F(x)| = 12.711; step 1; tol 0.9\n",
      "71:  |F(x)| = 12.711; step 1; tol 0.9\n",
      "72:  |F(x)| = 12.711; step 1; tol 0.9\n",
      "73:  |F(x)| = 12.711; step 1; tol 0.9\n",
      "74:  |F(x)| = 12.711; step 1; tol 0.9\n",
      "75:  |F(x)| = 12.711; step 1; tol 0.9\n",
      "76:  |F(x)| = 12.711; step 1; tol 0.9\n",
      "77:  |F(x)| = 12.711; step 1; tol 0.9\n",
      "78:  |F(x)| = 12.711; step 1; tol 0.9\n",
      "79:  |F(x)| = 12.711; step 1; tol 0.9\n",
      "80:  |F(x)| = 12.711; step 1; tol 0.9\n",
      "81:  |F(x)| = 12.711; step 1; tol 0.9\n",
      "82:  |F(x)| = 12.711; step 1; tol 0.9\n",
      "83:  |F(x)| = 12.711; step 1; tol 0.9\n",
      "84:  |F(x)| = 12.711; step 1; tol 0.9\n",
      "85:  |F(x)| = 12.711; step 1; tol 0.9\n",
      "86:  |F(x)| = 12.711; step 1; tol 0.9\n",
      "87:  |F(x)| = 12.711; step 1; tol 0.9\n",
      "88:  |F(x)| = 12.711; step 1; tol 0.9\n",
      "89:  |F(x)| = 12.711; step 1; tol 0.9\n",
      "90:  |F(x)| = 12.711; step 1; tol 0.9\n",
      "91:  |F(x)| = 12.711; step 1; tol 0.9\n",
      "92:  |F(x)| = 12.711; step 1; tol 0.9\n",
      "93:  |F(x)| = 12.711; step 1; tol 0.9\n",
      "94:  |F(x)| = 12.711; step 1; tol 0.9\n",
      "95:  |F(x)| = 12.711; step 1; tol 0.9\n",
      "96:  |F(x)| = 12.711; step 1; tol 0.9\n",
      "97:  |F(x)| = 12.711; step 1; tol 0.9\n",
      "98:  |F(x)| = 12.711; step 1; tol 0.9\n",
      "99:  |F(x)| = 12.711; step 1; tol 0.9\n",
      "100:  |F(x)| = 12.711; step 1; tol 0.9\n",
      "101:  |F(x)| = 12.711; step 1; tol 0.9\n",
      "102:  |F(x)| = 12.711; step 1; tol 0.9\n",
      "103:  |F(x)| = 12.711; step 1; tol 0.9\n",
      "104:  |F(x)| = 12.711; step 1; tol 0.9\n",
      "105:  |F(x)| = 12.711; step 1; tol 0.9\n",
      "106:  |F(x)| = 12.711; step 1; tol 0.9\n",
      "107:  |F(x)| = 12.711; step 1; tol 0.9\n",
      "108:  |F(x)| = 12.711; step 1; tol 0.9\n",
      "109:  |F(x)| = 12.711; step 1; tol 0.9\n"
     ]
    },
    {
     "ename": "KeyboardInterrupt",
     "evalue": "",
     "output_type": "error",
     "traceback": [
      "\u001b[0;31m---------------------------------------------------------------------------\u001b[0m",
      "\u001b[0;31mKeyboardInterrupt\u001b[0m                         Traceback (most recent call last)",
      "\u001b[0;32m<ipython-input-108-4c4287cb3565>\u001b[0m in \u001b[0;36m<module>\u001b[0;34m()\u001b[0m\n\u001b[1;32m      1\u001b[0m \u001b[0mN\u001b[0m \u001b[0;34m=\u001b[0m \u001b[0;32mlambda\u001b[0m \u001b[0mz\u001b[0m\u001b[0;34m:\u001b[0m \u001b[0mresidual\u001b[0m\u001b[0;34m(\u001b[0m\u001b[0mz\u001b[0m\u001b[0;34m,\u001b[0m \u001b[0mA\u001b[0m\u001b[0;34m,\u001b[0m \u001b[0mb\u001b[0m\u001b[0;34m,\u001b[0m \u001b[0mc\u001b[0m\u001b[0;34m,\u001b[0m \u001b[0mcache\u001b[0m\u001b[0;34m)\u001b[0m\u001b[0;34m/\u001b[0m\u001b[0mnp\u001b[0m\u001b[0;34m.\u001b[0m\u001b[0mabs\u001b[0m\u001b[0;34m(\u001b[0m\u001b[0mz\u001b[0m\u001b[0;34m[\u001b[0m\u001b[0;34m-\u001b[0m\u001b[0;36m1\u001b[0m\u001b[0;34m]\u001b[0m\u001b[0;34m)\u001b[0m\u001b[0;34m\u001b[0m\u001b[0m\n\u001b[1;32m      2\u001b[0m \u001b[0;34m\u001b[0m\u001b[0m\n\u001b[0;32m----> 3\u001b[0;31m \u001b[0mscipy\u001b[0m\u001b[0;34m.\u001b[0m\u001b[0moptimize\u001b[0m\u001b[0;34m.\u001b[0m\u001b[0manderson\u001b[0m\u001b[0;34m(\u001b[0m\u001b[0mN\u001b[0m\u001b[0;34m,\u001b[0m \u001b[0mz_init\u001b[0m\u001b[0;34m,\u001b[0m \u001b[0mverbose\u001b[0m\u001b[0;34m=\u001b[0m\u001b[0;32mTrue\u001b[0m\u001b[0;34m,\u001b[0m \u001b[0mM\u001b[0m \u001b[0;34m=\u001b[0m \u001b[0;36m20\u001b[0m\u001b[0;34m)\u001b[0m\u001b[0;34m\u001b[0m\u001b[0m\n\u001b[0m",
      "\u001b[0;32m~/anaconda3/lib/python3.6/site-packages/scipy/optimize/nonlin.py\u001b[0m in \u001b[0;36manderson\u001b[0;34m(F, xin, iter, alpha, w0, M, verbose, maxiter, f_tol, f_rtol, x_tol, x_rtol, tol_norm, line_search, callback, **kw)\u001b[0m\n",
      "\u001b[0;32m~/anaconda3/lib/python3.6/site-packages/scipy/optimize/nonlin.py\u001b[0m in \u001b[0;36mnonlin_solve\u001b[0;34m(F, x0, jacobian, iter, verbose, maxiter, f_tol, f_rtol, x_tol, x_rtol, tol_norm, line_search, callback, full_output, raise_exception)\u001b[0m\n\u001b[1;32m    318\u001b[0m         \u001b[0;32mif\u001b[0m \u001b[0mline_search\u001b[0m\u001b[0;34m:\u001b[0m\u001b[0;34m\u001b[0m\u001b[0m\n\u001b[1;32m    319\u001b[0m             s, x, Fx, Fx_norm_new = _nonlin_line_search(func, x, Fx, dx,\n\u001b[0;32m--> 320\u001b[0;31m                                                         line_search)\n\u001b[0m\u001b[1;32m    321\u001b[0m         \u001b[0;32melse\u001b[0m\u001b[0;34m:\u001b[0m\u001b[0;34m\u001b[0m\u001b[0m\n\u001b[1;32m    322\u001b[0m             \u001b[0ms\u001b[0m \u001b[0;34m=\u001b[0m \u001b[0;36m1.0\u001b[0m\u001b[0;34m\u001b[0m\u001b[0m\n",
      "\u001b[0;32m~/anaconda3/lib/python3.6/site-packages/scipy/optimize/nonlin.py\u001b[0m in \u001b[0;36m_nonlin_line_search\u001b[0;34m(func, x, Fx, dx, search_type, rdiff, smin)\u001b[0m\n\u001b[1;32m    397\u001b[0m     \u001b[0;32melif\u001b[0m \u001b[0msearch_type\u001b[0m \u001b[0;34m==\u001b[0m \u001b[0;34m'armijo'\u001b[0m\u001b[0;34m:\u001b[0m\u001b[0;34m\u001b[0m\u001b[0m\n\u001b[1;32m    398\u001b[0m         s, phi1 = scalar_search_armijo(phi, tmp_phi[0], -tmp_phi[0],\n\u001b[0;32m--> 399\u001b[0;31m                                        amin=smin)\n\u001b[0m\u001b[1;32m    400\u001b[0m \u001b[0;34m\u001b[0m\u001b[0m\n\u001b[1;32m    401\u001b[0m     \u001b[0;32mif\u001b[0m \u001b[0ms\u001b[0m \u001b[0;32mis\u001b[0m \u001b[0;32mNone\u001b[0m\u001b[0;34m:\u001b[0m\u001b[0;34m\u001b[0m\u001b[0m\n",
      "\u001b[0;32m~/anaconda3/lib/python3.6/site-packages/scipy/optimize/linesearch.py\u001b[0m in \u001b[0;36mscalar_search_armijo\u001b[0;34m(phi, phi0, derphi0, c1, alpha0, amin)\u001b[0m\n\u001b[1;32m    706\u001b[0m \u001b[0;34m\u001b[0m\u001b[0m\n\u001b[1;32m    707\u001b[0m         \u001b[0malpha2\u001b[0m \u001b[0;34m=\u001b[0m \u001b[0;34m(\u001b[0m\u001b[0;34m-\u001b[0m\u001b[0mb\u001b[0m \u001b[0;34m+\u001b[0m \u001b[0mnp\u001b[0m\u001b[0;34m.\u001b[0m\u001b[0msqrt\u001b[0m\u001b[0;34m(\u001b[0m\u001b[0mabs\u001b[0m\u001b[0;34m(\u001b[0m\u001b[0mb\u001b[0m\u001b[0;34m**\u001b[0m\u001b[0;36m2\u001b[0m \u001b[0;34m-\u001b[0m \u001b[0;36m3\u001b[0m \u001b[0;34m*\u001b[0m \u001b[0ma\u001b[0m \u001b[0;34m*\u001b[0m \u001b[0mderphi0\u001b[0m\u001b[0;34m)\u001b[0m\u001b[0;34m)\u001b[0m\u001b[0;34m)\u001b[0m \u001b[0;34m/\u001b[0m \u001b[0;34m(\u001b[0m\u001b[0;36m3.0\u001b[0m\u001b[0;34m*\u001b[0m\u001b[0ma\u001b[0m\u001b[0;34m)\u001b[0m\u001b[0;34m\u001b[0m\u001b[0m\n\u001b[0;32m--> 708\u001b[0;31m         \u001b[0mphi_a2\u001b[0m \u001b[0;34m=\u001b[0m \u001b[0mphi\u001b[0m\u001b[0;34m(\u001b[0m\u001b[0malpha2\u001b[0m\u001b[0;34m)\u001b[0m\u001b[0;34m\u001b[0m\u001b[0m\n\u001b[0m\u001b[1;32m    709\u001b[0m \u001b[0;34m\u001b[0m\u001b[0m\n\u001b[1;32m    710\u001b[0m         \u001b[0;32mif\u001b[0m \u001b[0;34m(\u001b[0m\u001b[0mphi_a2\u001b[0m \u001b[0;34m<=\u001b[0m \u001b[0mphi0\u001b[0m \u001b[0;34m+\u001b[0m \u001b[0mc1\u001b[0m\u001b[0;34m*\u001b[0m\u001b[0malpha2\u001b[0m\u001b[0;34m*\u001b[0m\u001b[0mderphi0\u001b[0m\u001b[0;34m)\u001b[0m\u001b[0;34m:\u001b[0m\u001b[0;34m\u001b[0m\u001b[0m\n",
      "\u001b[0;32m~/anaconda3/lib/python3.6/site-packages/scipy/optimize/nonlin.py\u001b[0m in \u001b[0;36mphi\u001b[0;34m(s, store)\u001b[0m\n\u001b[1;32m    380\u001b[0m             \u001b[0;32mreturn\u001b[0m \u001b[0mtmp_phi\u001b[0m\u001b[0;34m[\u001b[0m\u001b[0;36m0\u001b[0m\u001b[0;34m]\u001b[0m\u001b[0;34m\u001b[0m\u001b[0m\n\u001b[1;32m    381\u001b[0m         \u001b[0mxt\u001b[0m \u001b[0;34m=\u001b[0m \u001b[0mx\u001b[0m \u001b[0;34m+\u001b[0m \u001b[0ms\u001b[0m\u001b[0;34m*\u001b[0m\u001b[0mdx\u001b[0m\u001b[0;34m\u001b[0m\u001b[0m\n\u001b[0;32m--> 382\u001b[0;31m         \u001b[0mv\u001b[0m \u001b[0;34m=\u001b[0m \u001b[0mfunc\u001b[0m\u001b[0;34m(\u001b[0m\u001b[0mxt\u001b[0m\u001b[0;34m)\u001b[0m\u001b[0;34m\u001b[0m\u001b[0m\n\u001b[0m\u001b[1;32m    383\u001b[0m         \u001b[0mp\u001b[0m \u001b[0;34m=\u001b[0m \u001b[0m_safe_norm\u001b[0m\u001b[0;34m(\u001b[0m\u001b[0mv\u001b[0m\u001b[0;34m)\u001b[0m\u001b[0;34m**\u001b[0m\u001b[0;36m2\u001b[0m\u001b[0;34m\u001b[0m\u001b[0m\n\u001b[1;32m    384\u001b[0m         \u001b[0;32mif\u001b[0m \u001b[0mstore\u001b[0m\u001b[0;34m:\u001b[0m\u001b[0;34m\u001b[0m\u001b[0m\n",
      "\u001b[0;32m~/anaconda3/lib/python3.6/site-packages/scipy/optimize/nonlin.py\u001b[0m in \u001b[0;36m<lambda>\u001b[0;34m(z)\u001b[0m\n\u001b[1;32m    271\u001b[0m \u001b[0;34m\u001b[0m\u001b[0m\n\u001b[1;32m    272\u001b[0m     \u001b[0mx0\u001b[0m \u001b[0;34m=\u001b[0m \u001b[0m_as_inexact\u001b[0m\u001b[0;34m(\u001b[0m\u001b[0mx0\u001b[0m\u001b[0;34m)\u001b[0m\u001b[0;34m\u001b[0m\u001b[0m\n\u001b[0;32m--> 273\u001b[0;31m     \u001b[0mfunc\u001b[0m \u001b[0;34m=\u001b[0m \u001b[0;32mlambda\u001b[0m \u001b[0mz\u001b[0m\u001b[0;34m:\u001b[0m \u001b[0m_as_inexact\u001b[0m\u001b[0;34m(\u001b[0m\u001b[0mF\u001b[0m\u001b[0;34m(\u001b[0m\u001b[0m_array_like\u001b[0m\u001b[0;34m(\u001b[0m\u001b[0mz\u001b[0m\u001b[0;34m,\u001b[0m \u001b[0mx0\u001b[0m\u001b[0;34m)\u001b[0m\u001b[0;34m)\u001b[0m\u001b[0;34m)\u001b[0m\u001b[0;34m.\u001b[0m\u001b[0mflatten\u001b[0m\u001b[0;34m(\u001b[0m\u001b[0;34m)\u001b[0m\u001b[0;34m\u001b[0m\u001b[0m\n\u001b[0m\u001b[1;32m    274\u001b[0m     \u001b[0mx\u001b[0m \u001b[0;34m=\u001b[0m \u001b[0mx0\u001b[0m\u001b[0;34m.\u001b[0m\u001b[0mflatten\u001b[0m\u001b[0;34m(\u001b[0m\u001b[0;34m)\u001b[0m\u001b[0;34m\u001b[0m\u001b[0m\n\u001b[1;32m    275\u001b[0m \u001b[0;34m\u001b[0m\u001b[0m\n",
      "\u001b[0;32m<ipython-input-108-4c4287cb3565>\u001b[0m in \u001b[0;36m<lambda>\u001b[0;34m(z)\u001b[0m\n\u001b[0;32m----> 1\u001b[0;31m \u001b[0mN\u001b[0m \u001b[0;34m=\u001b[0m \u001b[0;32mlambda\u001b[0m \u001b[0mz\u001b[0m\u001b[0;34m:\u001b[0m \u001b[0mresidual\u001b[0m\u001b[0;34m(\u001b[0m\u001b[0mz\u001b[0m\u001b[0;34m,\u001b[0m \u001b[0mA\u001b[0m\u001b[0;34m,\u001b[0m \u001b[0mb\u001b[0m\u001b[0;34m,\u001b[0m \u001b[0mc\u001b[0m\u001b[0;34m,\u001b[0m \u001b[0mcache\u001b[0m\u001b[0;34m)\u001b[0m\u001b[0;34m/\u001b[0m\u001b[0mnp\u001b[0m\u001b[0;34m.\u001b[0m\u001b[0mabs\u001b[0m\u001b[0;34m(\u001b[0m\u001b[0mz\u001b[0m\u001b[0;34m[\u001b[0m\u001b[0;34m-\u001b[0m\u001b[0;36m1\u001b[0m\u001b[0;34m]\u001b[0m\u001b[0;34m)\u001b[0m\u001b[0;34m\u001b[0m\u001b[0m\n\u001b[0m\u001b[1;32m      2\u001b[0m \u001b[0;34m\u001b[0m\u001b[0m\n\u001b[1;32m      3\u001b[0m \u001b[0mscipy\u001b[0m\u001b[0;34m.\u001b[0m\u001b[0moptimize\u001b[0m\u001b[0;34m.\u001b[0m\u001b[0manderson\u001b[0m\u001b[0;34m(\u001b[0m\u001b[0mN\u001b[0m\u001b[0;34m,\u001b[0m \u001b[0mz_init\u001b[0m\u001b[0;34m,\u001b[0m \u001b[0mverbose\u001b[0m\u001b[0;34m=\u001b[0m\u001b[0;32mTrue\u001b[0m\u001b[0;34m,\u001b[0m \u001b[0mM\u001b[0m \u001b[0;34m=\u001b[0m \u001b[0;36m20\u001b[0m\u001b[0;34m)\u001b[0m\u001b[0;34m\u001b[0m\u001b[0m\n",
      "\u001b[0;32m~/repos/cone_prog_refine/cone_prog_refine/problem.py\u001b[0m in \u001b[0;36mresidual\u001b[0;34m(z, A, b, c, cones_caches)\u001b[0m\n\u001b[1;32m    124\u001b[0m \u001b[0;34m\u001b[0m\u001b[0m\n\u001b[1;32m    125\u001b[0m \u001b[0;32mdef\u001b[0m \u001b[0mresidual\u001b[0m\u001b[0;34m(\u001b[0m\u001b[0mz\u001b[0m\u001b[0;34m,\u001b[0m \u001b[0mA\u001b[0m\u001b[0;34m,\u001b[0m \u001b[0mb\u001b[0m\u001b[0;34m,\u001b[0m \u001b[0mc\u001b[0m\u001b[0;34m,\u001b[0m \u001b[0mcones_caches\u001b[0m\u001b[0;34m)\u001b[0m\u001b[0;34m:\u001b[0m\u001b[0;34m\u001b[0m\u001b[0m\n\u001b[0;32m--> 126\u001b[0;31m     \u001b[0mres\u001b[0m\u001b[0;34m,\u001b[0m \u001b[0mu\u001b[0m\u001b[0;34m,\u001b[0m \u001b[0mv\u001b[0m \u001b[0;34m=\u001b[0m \u001b[0mresidual_and_uv\u001b[0m\u001b[0;34m(\u001b[0m\u001b[0mz\u001b[0m\u001b[0;34m,\u001b[0m \u001b[0mA\u001b[0m\u001b[0;34m,\u001b[0m \u001b[0mb\u001b[0m\u001b[0;34m,\u001b[0m \u001b[0mc\u001b[0m\u001b[0;34m,\u001b[0m \u001b[0mcones_caches\u001b[0m\u001b[0;34m)\u001b[0m\u001b[0;34m\u001b[0m\u001b[0m\n\u001b[0m\u001b[1;32m    127\u001b[0m     \u001b[0;32mreturn\u001b[0m \u001b[0mres\u001b[0m\u001b[0;34m\u001b[0m\u001b[0m\n\u001b[1;32m    128\u001b[0m \u001b[0;34m\u001b[0m\u001b[0m\n",
      "\u001b[0;32m~/repos/cone_prog_refine/cone_prog_refine/problem.py\u001b[0m in \u001b[0;36mresidual_and_uv\u001b[0;34m(z, A, b, c, cones_caches)\u001b[0m\n\u001b[1;32m    118\u001b[0m \u001b[0;32mdef\u001b[0m \u001b[0mresidual_and_uv\u001b[0m\u001b[0;34m(\u001b[0m\u001b[0mz\u001b[0m\u001b[0;34m,\u001b[0m \u001b[0mA\u001b[0m\u001b[0;34m,\u001b[0m \u001b[0mb\u001b[0m\u001b[0;34m,\u001b[0m \u001b[0mc\u001b[0m\u001b[0;34m,\u001b[0m \u001b[0mcones_caches\u001b[0m\u001b[0;34m)\u001b[0m\u001b[0;34m:\u001b[0m\u001b[0;34m\u001b[0m\u001b[0m\n\u001b[1;32m    119\u001b[0m     \u001b[0mm\u001b[0m\u001b[0;34m,\u001b[0m \u001b[0mn\u001b[0m \u001b[0;34m=\u001b[0m \u001b[0mA\u001b[0m\u001b[0;34m.\u001b[0m\u001b[0mshape\u001b[0m\u001b[0;34m\u001b[0m\u001b[0m\n\u001b[0;32m--> 120\u001b[0;31m     \u001b[0mu\u001b[0m \u001b[0;34m=\u001b[0m \u001b[0membedded_cone_Pi\u001b[0m\u001b[0;34m(\u001b[0m\u001b[0mz\u001b[0m\u001b[0;34m,\u001b[0m \u001b[0;34m*\u001b[0m\u001b[0mcones_caches\u001b[0m\u001b[0;34m,\u001b[0m \u001b[0mn\u001b[0m\u001b[0;34m)\u001b[0m\u001b[0;34m\u001b[0m\u001b[0m\n\u001b[0m\u001b[1;32m    121\u001b[0m     \u001b[0mv\u001b[0m \u001b[0;34m=\u001b[0m \u001b[0mu\u001b[0m \u001b[0;34m-\u001b[0m \u001b[0mz\u001b[0m\u001b[0;34m\u001b[0m\u001b[0m\n\u001b[1;32m    122\u001b[0m     \u001b[0;32mreturn\u001b[0m \u001b[0mQ_matvec\u001b[0m\u001b[0;34m(\u001b[0m\u001b[0mA\u001b[0m\u001b[0;34m,\u001b[0m \u001b[0mb\u001b[0m\u001b[0;34m,\u001b[0m \u001b[0mc\u001b[0m\u001b[0;34m,\u001b[0m \u001b[0mu\u001b[0m\u001b[0;34m)\u001b[0m \u001b[0;34m-\u001b[0m \u001b[0mv\u001b[0m\u001b[0;34m,\u001b[0m \u001b[0mu\u001b[0m\u001b[0;34m,\u001b[0m \u001b[0mv\u001b[0m\u001b[0;34m\u001b[0m\u001b[0m\n",
      "\u001b[0;32m~/repos/cone_prog_refine/cone_prog_refine/cones.py\u001b[0m in \u001b[0;36membedded_cone_Pi\u001b[0;34m(z, zero, l, q, q_cache, s, s_cache_eivec, s_cache_eival, ep, ep_cache, ed, ed_cache, n)\u001b[0m\n\u001b[1;32m   1028\u001b[0m                                           \u001b[0ms_cache_eivec\u001b[0m\u001b[0;34m,\u001b[0m\u001b[0;34m\u001b[0m\u001b[0m\n\u001b[1;32m   1029\u001b[0m                                           \u001b[0ms_cache_eival\u001b[0m\u001b[0;34m,\u001b[0m \u001b[0mep\u001b[0m\u001b[0;34m,\u001b[0m \u001b[0mep_cache\u001b[0m\u001b[0;34m,\u001b[0m\u001b[0;34m\u001b[0m\u001b[0m\n\u001b[0;32m-> 1030\u001b[0;31m                                           ed, ed_cache)\n\u001b[0m\u001b[1;32m   1031\u001b[0m     \u001b[0mresult\u001b[0m\u001b[0;34m[\u001b[0m\u001b[0;34m-\u001b[0m\u001b[0;36m1\u001b[0m\u001b[0;34m:\u001b[0m\u001b[0;34m]\u001b[0m \u001b[0;34m=\u001b[0m \u001b[0mnon_neg_Pi\u001b[0m\u001b[0;34m(\u001b[0m\u001b[0mz\u001b[0m\u001b[0;34m[\u001b[0m\u001b[0;34m-\u001b[0m\u001b[0;36m1\u001b[0m\u001b[0;34m:\u001b[0m\u001b[0;34m]\u001b[0m\u001b[0;34m)\u001b[0m  \u001b[0;31m# tau\u001b[0m\u001b[0;34m\u001b[0m\u001b[0m\n\u001b[1;32m   1032\u001b[0m     \u001b[0;32mreturn\u001b[0m \u001b[0mresult\u001b[0m\u001b[0;34m\u001b[0m\u001b[0m\n",
      "\u001b[0;32m~/repos/cone_prog_refine/cone_prog_refine/cones.py\u001b[0m in \u001b[0;36mprod_cone_Pi\u001b[0;34m(z, zero, l, q, q_cache, s, s_cache_eivec, s_cache_eival, ep, ep_cache, ed, ed_cache)\u001b[0m\n\u001b[1;32m    920\u001b[0m     \u001b[0;32mfor\u001b[0m \u001b[0mindex\u001b[0m \u001b[0;32min\u001b[0m \u001b[0mrange\u001b[0m\u001b[0;34m(\u001b[0m\u001b[0mep\u001b[0m\u001b[0;34m)\u001b[0m\u001b[0;34m:\u001b[0m\u001b[0;34m\u001b[0m\u001b[0m\n\u001b[1;32m    921\u001b[0m         result[cur:cur + 3] = exp_pri_Pi(z[cur:cur + 3],\n\u001b[0;32m--> 922\u001b[0;31m                                          ep_cache[index])\n\u001b[0m\u001b[1;32m    923\u001b[0m         \u001b[0mcur\u001b[0m \u001b[0;34m+=\u001b[0m \u001b[0;36m3\u001b[0m\u001b[0;34m\u001b[0m\u001b[0m\n\u001b[1;32m    924\u001b[0m \u001b[0;34m\u001b[0m\u001b[0m\n",
      "\u001b[0;31mKeyboardInterrupt\u001b[0m: "
     ]
    }
   ],
   "source": [
    "N = lambda z: residual(z, A, b, c, cache)/np.abs(z[-1])\n",
    "\n",
    "scipy.optimize.anderson(N, z_init, verbose=True, M = 20) "
   ]
  },
  {
   "cell_type": "code",
   "execution_count": 109,
   "metadata": {},
   "outputs": [],
   "source": [
    "result = scipy.optimize.root(N, z_init, method='hybr') "
   ]
  },
  {
   "cell_type": "code",
   "execution_count": 110,
   "metadata": {},
   "outputs": [
    {
     "name": "stdout",
     "output_type": "stream",
     "text": [
      "    fjac: array([[ 0.00000000e+00,  0.00000000e+00,  0.00000000e+00, ...,\n",
      "         0.00000000e+00,  0.00000000e+00,  1.81356889e-01],\n",
      "       [ 8.32667268e-17,  0.00000000e+00,  0.00000000e+00, ...,\n",
      "         0.00000000e+00,  6.95715832e-02, -4.38859359e-01],\n",
      "       [-7.63278329e-17,  5.55111512e-17,  0.00000000e+00, ...,\n",
      "         0.00000000e+00,  1.40945680e-02,  2.63276330e-01],\n",
      "       ...,\n",
      "       [-2.22055929e-02,  5.26660585e-02,  6.73795252e-02, ...,\n",
      "        -2.18680417e-10,  1.59232941e-10, -2.26719702e-11],\n",
      "       [-1.57060602e-02,  1.66182180e-02, -1.90021354e-02, ...,\n",
      "        -8.81049790e-17, -1.32175431e-10,  4.07927073e-11],\n",
      "       [ 1.74819721e-02, -6.66696175e-02, -2.29721125e-03, ...,\n",
      "        -2.74574200e-17,  3.64291930e-17, -4.74461269e-12]])\n",
      "     fun: array([-1.72506282e-02, -2.53035800e-03, -1.82541867e-02, ...,\n",
      "       -7.13123259e-01, -6.45373737e-01, -2.63991295e+01])\n",
      " message: 'The iteration is not making good progress, as measured by the \\n  improvement from the last five Jacobian evaluations.'\n",
      "    nfev: 11713\n",
      "     qtf: array([-2.98341970e+00,  1.04573537e+01, -6.44173578e+00, ...,\n",
      "        2.03976848e-09, -1.42309899e-09, -7.25786964e-10])\n",
      "       r: array([-2.62038426e-04,  3.00687308e-05, -2.49752344e-05, ...,\n",
      "       -8.85153831e-13, -9.27845838e-12, -4.73266853e-12])\n",
      "  status: 4\n",
      " success: False\n",
      "       x: array([  76.38621917,  -56.38209645, -286.426041  , ...,  -97.7078319 ,\n",
      "       -100.07431958, -149.32503735])\n"
     ]
    }
   ],
   "source": [
    "print(result)"
   ]
  },
  {
   "cell_type": "code",
   "execution_count": 111,
   "metadata": {},
   "outputs": [
    {
     "data": {
      "text/plain": [
       "33.406614003222174"
      ]
     },
     "execution_count": 111,
     "metadata": {},
     "output_type": "execute_result"
    }
   ],
   "source": [
    "np.linalg.norm(N(result['x']))"
   ]
  },
  {
   "cell_type": "code",
   "execution_count": null,
   "metadata": {},
   "outputs": [],
   "source": []
  }
 ],
 "metadata": {
  "kernelspec": {
   "display_name": "Python 3",
   "language": "python",
   "name": "python3"
  },
  "language_info": {
   "codemirror_mode": {
    "name": "ipython",
    "version": 3
   },
   "file_extension": ".py",
   "mimetype": "text/x-python",
   "name": "python",
   "nbconvert_exporter": "python",
   "pygments_lexer": "ipython3",
   "version": "3.6.4"
  }
 },
 "nbformat": 4,
 "nbformat_minor": 2
}
